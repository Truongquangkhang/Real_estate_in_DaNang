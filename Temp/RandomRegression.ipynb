{
 "cells": [
  {
   "cell_type": "code",
   "execution_count": 671,
   "metadata": {},
   "outputs": [],
   "source": [
    "import numpy as np\n",
    "import pandas as pd\n",
    "import matplotlib.pyplot as plt\n",
    "import seaborn as sns\n",
    "import re"
   ]
  },
  {
   "cell_type": "code",
   "execution_count": 672,
   "metadata": {},
   "outputs": [],
   "source": [
    "df = pd.read_csv('street.csv')"
   ]
  },
  {
   "cell_type": "code",
   "execution_count": 673,
   "metadata": {},
   "outputs": [
    {
     "data": {
      "text/html": [
       "<div>\n",
       "<style scoped>\n",
       "    .dataframe tbody tr th:only-of-type {\n",
       "        vertical-align: middle;\n",
       "    }\n",
       "\n",
       "    .dataframe tbody tr th {\n",
       "        vertical-align: top;\n",
       "    }\n",
       "\n",
       "    .dataframe thead th {\n",
       "        text-align: right;\n",
       "    }\n",
       "</style>\n",
       "<table border=\"1\" class=\"dataframe\">\n",
       "  <thead>\n",
       "    <tr style=\"text-align: right;\">\n",
       "      <th></th>\n",
       "      <th>Street</th>\n",
       "      <th>Ward</th>\n",
       "      <th>District</th>\n",
       "      <th>Prices</th>\n",
       "      <th>Area</th>\n",
       "      <th>toFace</th>\n",
       "      <th>type</th>\n",
       "      <th>certificate</th>\n",
       "      <th>width</th>\n",
       "      <th>length</th>\n",
       "      <th>floors</th>\n",
       "      <th>Location</th>\n",
       "    </tr>\n",
       "  </thead>\n",
       "  <tbody>\n",
       "    <tr>\n",
       "      <th>0</th>\n",
       "      <td>Hà Mục</td>\n",
       "      <td>Hòa Thọ Đông</td>\n",
       "      <td>cẩm lệ</td>\n",
       "      <td>-0.109935</td>\n",
       "      <td>0.331876</td>\n",
       "      <td>Tây Nam</td>\n",
       "      <td>Nhà mặt tiền</td>\n",
       "      <td>Không có</td>\n",
       "      <td>-0.384833</td>\n",
       "      <td>0.532496</td>\n",
       "      <td>4</td>\n",
       "      <td>16.01918,108.19537</td>\n",
       "    </tr>\n",
       "    <tr>\n",
       "      <th>1</th>\n",
       "      <td>Thi Sách</td>\n",
       "      <td>Hòa Thuận Tây</td>\n",
       "      <td>hải châu</td>\n",
       "      <td>-0.504485</td>\n",
       "      <td>0.010225</td>\n",
       "      <td>Không</td>\n",
       "      <td>Nhà mặt tiền</td>\n",
       "      <td>Không có</td>\n",
       "      <td>1.214177</td>\n",
       "      <td>-0.987467</td>\n",
       "      <td>1</td>\n",
       "      <td>16.0546,108.20547</td>\n",
       "    </tr>\n",
       "    <tr>\n",
       "      <th>2</th>\n",
       "      <td>Ông Ích Khiêm</td>\n",
       "      <td>Tam Thuận</td>\n",
       "      <td>thanh khê</td>\n",
       "      <td>0.974593</td>\n",
       "      <td>-0.375756</td>\n",
       "      <td>Tây</td>\n",
       "      <td>Nhà mặt tiền</td>\n",
       "      <td>Giấy tờ hợp lệ</td>\n",
       "      <td>-0.839577</td>\n",
       "      <td>0.198567</td>\n",
       "      <td>3</td>\n",
       "      <td>16.06653,108.2142</td>\n",
       "    </tr>\n",
       "    <tr>\n",
       "      <th>3</th>\n",
       "      <td>Núi Thành</td>\n",
       "      <td>Hòa Cường Bắc</td>\n",
       "      <td>hải châu</td>\n",
       "      <td>1.469697</td>\n",
       "      <td>1.125282</td>\n",
       "      <td>Tây</td>\n",
       "      <td>Nhà mặt tiền</td>\n",
       "      <td>Giấy tờ hợp lệ</td>\n",
       "      <td>0.486759</td>\n",
       "      <td>0.358670</td>\n",
       "      <td>3</td>\n",
       "      <td>16.03194,108.22279</td>\n",
       "    </tr>\n",
       "    <tr>\n",
       "      <th>4</th>\n",
       "      <td>Trương Văn Hiến</td>\n",
       "      <td>Khuê Mỹ</td>\n",
       "      <td>ngũ hành sơn</td>\n",
       "      <td>0.371615</td>\n",
       "      <td>0.117442</td>\n",
       "      <td>Đông Nam</td>\n",
       "      <td>Nhà mặt tiền</td>\n",
       "      <td>Giấy tờ hợp lệ</td>\n",
       "      <td>-0.384833</td>\n",
       "      <td>0.250511</td>\n",
       "      <td>4</td>\n",
       "      <td>16.01947,108.25592</td>\n",
       "    </tr>\n",
       "  </tbody>\n",
       "</table>\n",
       "</div>"
      ],
      "text/plain": [
       "             Street           Ward      District    Prices      Area   \n",
       "0            Hà Mục   Hòa Thọ Đông        cẩm lệ -0.109935  0.331876  \\\n",
       "1          Thi Sách  Hòa Thuận Tây      hải châu -0.504485  0.010225   \n",
       "2     Ông Ích Khiêm      Tam Thuận     thanh khê  0.974593 -0.375756   \n",
       "3         Núi Thành  Hòa Cường Bắc      hải châu  1.469697  1.125282   \n",
       "4   Trương Văn Hiến        Khuê Mỹ  ngũ hành sơn  0.371615  0.117442   \n",
       "\n",
       "     toFace          type     certificate     width    length  floors   \n",
       "0   Tây Nam  Nhà mặt tiền        Không có -0.384833  0.532496       4  \\\n",
       "1     Không  Nhà mặt tiền        Không có  1.214177 -0.987467       1   \n",
       "2       Tây  Nhà mặt tiền  Giấy tờ hợp lệ -0.839577  0.198567       3   \n",
       "3       Tây  Nhà mặt tiền  Giấy tờ hợp lệ  0.486759  0.358670       3   \n",
       "4  Đông Nam  Nhà mặt tiền  Giấy tờ hợp lệ -0.384833  0.250511       4   \n",
       "\n",
       "             Location  \n",
       "0  16.01918,108.19537  \n",
       "1   16.0546,108.20547  \n",
       "2   16.06653,108.2142  \n",
       "3  16.03194,108.22279  \n",
       "4  16.01947,108.25592  "
      ]
     },
     "execution_count": 673,
     "metadata": {},
     "output_type": "execute_result"
    }
   ],
   "source": [
    "df.head()"
   ]
  },
  {
   "cell_type": "code",
   "execution_count": 674,
   "metadata": {},
   "outputs": [
    {
     "name": "stdout",
     "output_type": "stream",
     "text": [
      "<class 'pandas.core.frame.DataFrame'>\n",
      "RangeIndex: 14612 entries, 0 to 14611\n",
      "Data columns (total 12 columns):\n",
      " #   Column       Non-Null Count  Dtype  \n",
      "---  ------       --------------  -----  \n",
      " 0   Street       14612 non-null  object \n",
      " 1   Ward         14612 non-null  object \n",
      " 2   District     14612 non-null  object \n",
      " 3   Prices       14612 non-null  float64\n",
      " 4   Area         14612 non-null  float64\n",
      " 5   toFace       14612 non-null  object \n",
      " 6   type         14612 non-null  object \n",
      " 7   certificate  14612 non-null  object \n",
      " 8   width        14612 non-null  float64\n",
      " 9   length       14612 non-null  float64\n",
      " 10  floors       14612 non-null  int64  \n",
      " 11  Location     14610 non-null  object \n",
      "dtypes: float64(4), int64(1), object(7)\n",
      "memory usage: 1.3+ MB\n"
     ]
    }
   ],
   "source": [
    "df.info()"
   ]
  },
  {
   "attachments": {},
   "cell_type": "markdown",
   "metadata": {},
   "source": [
    "## Lable Encoding"
   ]
  },
  {
   "cell_type": "code",
   "execution_count": 675,
   "metadata": {},
   "outputs": [
    {
     "data": {
      "text/plain": [
       "array(['cẩm lệ', 'hải châu', 'thanh khê', 'ngũ hành sơn', 'sơn trà',\n",
       "       'liên chiểu', 'hòa vang'], dtype=object)"
      ]
     },
     "execution_count": 675,
     "metadata": {},
     "output_type": "execute_result"
    }
   ],
   "source": [
    "df['District'].unique()"
   ]
  },
  {
   "attachments": {},
   "cell_type": "markdown",
   "metadata": {},
   "source": [
    "Chuyển dữ liệu trường District về dạnh số\n",
    "\n",
    "- cẩm lệ -> 0\n",
    "- hải châu -> 1\n",
    "- thanh khê -> 2\n",
    "- ngũ hành sơn -> 3\n",
    "- sơn trà -> 4\n",
    "- liên chiểu -> 5\n",
    "- hòa vang -> 6"
   ]
  },
  {
   "cell_type": "code",
   "execution_count": 676,
   "metadata": {},
   "outputs": [],
   "source": [
    "from sklearn.preprocessing import LabelEncoder\n",
    "\n",
    "# Khởi tạo LabelEncoder\n",
    "le = LabelEncoder()\n",
    "\n",
    "df['District'] = le.fit_transform(df['District'])\n"
   ]
  },
  {
   "cell_type": "code",
   "execution_count": 677,
   "metadata": {},
   "outputs": [],
   "source": [
    "type_map = {'Nhà trong hẻm':0,'Nhà mặt tiền':1}\n",
    "df['type']=le.fit_transform(df['type'].map(type_map))"
   ]
  },
  {
   "cell_type": "code",
   "execution_count": 678,
   "metadata": {},
   "outputs": [],
   "source": [
    "df['certificate']= le.fit_transform(df['certificate'])"
   ]
  },
  {
   "cell_type": "code",
   "execution_count": 679,
   "metadata": {},
   "outputs": [
    {
     "data": {
      "text/html": [
       "<div>\n",
       "<style scoped>\n",
       "    .dataframe tbody tr th:only-of-type {\n",
       "        vertical-align: middle;\n",
       "    }\n",
       "\n",
       "    .dataframe tbody tr th {\n",
       "        vertical-align: top;\n",
       "    }\n",
       "\n",
       "    .dataframe thead th {\n",
       "        text-align: right;\n",
       "    }\n",
       "</style>\n",
       "<table border=\"1\" class=\"dataframe\">\n",
       "  <thead>\n",
       "    <tr style=\"text-align: right;\">\n",
       "      <th></th>\n",
       "      <th>Street</th>\n",
       "      <th>Ward</th>\n",
       "      <th>District</th>\n",
       "      <th>Prices</th>\n",
       "      <th>Area</th>\n",
       "      <th>toFace</th>\n",
       "      <th>type</th>\n",
       "      <th>certificate</th>\n",
       "      <th>width</th>\n",
       "      <th>length</th>\n",
       "      <th>floors</th>\n",
       "      <th>Location</th>\n",
       "    </tr>\n",
       "  </thead>\n",
       "  <tbody>\n",
       "    <tr>\n",
       "      <th>0</th>\n",
       "      <td>Hà Mục</td>\n",
       "      <td>Hòa Thọ Đông</td>\n",
       "      <td>0</td>\n",
       "      <td>-0.109935</td>\n",
       "      <td>0.331876</td>\n",
       "      <td>Tây Nam</td>\n",
       "      <td>1</td>\n",
       "      <td>1</td>\n",
       "      <td>-0.384833</td>\n",
       "      <td>0.532496</td>\n",
       "      <td>4</td>\n",
       "      <td>16.01918,108.19537</td>\n",
       "    </tr>\n",
       "    <tr>\n",
       "      <th>1</th>\n",
       "      <td>Thi Sách</td>\n",
       "      <td>Hòa Thuận Tây</td>\n",
       "      <td>2</td>\n",
       "      <td>-0.504485</td>\n",
       "      <td>0.010225</td>\n",
       "      <td>Không</td>\n",
       "      <td>1</td>\n",
       "      <td>1</td>\n",
       "      <td>1.214177</td>\n",
       "      <td>-0.987467</td>\n",
       "      <td>1</td>\n",
       "      <td>16.0546,108.20547</td>\n",
       "    </tr>\n",
       "    <tr>\n",
       "      <th>2</th>\n",
       "      <td>Ông Ích Khiêm</td>\n",
       "      <td>Tam Thuận</td>\n",
       "      <td>6</td>\n",
       "      <td>0.974593</td>\n",
       "      <td>-0.375756</td>\n",
       "      <td>Tây</td>\n",
       "      <td>1</td>\n",
       "      <td>0</td>\n",
       "      <td>-0.839577</td>\n",
       "      <td>0.198567</td>\n",
       "      <td>3</td>\n",
       "      <td>16.06653,108.2142</td>\n",
       "    </tr>\n",
       "    <tr>\n",
       "      <th>3</th>\n",
       "      <td>Núi Thành</td>\n",
       "      <td>Hòa Cường Bắc</td>\n",
       "      <td>2</td>\n",
       "      <td>1.469697</td>\n",
       "      <td>1.125282</td>\n",
       "      <td>Tây</td>\n",
       "      <td>1</td>\n",
       "      <td>0</td>\n",
       "      <td>0.486759</td>\n",
       "      <td>0.358670</td>\n",
       "      <td>3</td>\n",
       "      <td>16.03194,108.22279</td>\n",
       "    </tr>\n",
       "    <tr>\n",
       "      <th>4</th>\n",
       "      <td>Trương Văn Hiến</td>\n",
       "      <td>Khuê Mỹ</td>\n",
       "      <td>4</td>\n",
       "      <td>0.371615</td>\n",
       "      <td>0.117442</td>\n",
       "      <td>Đông Nam</td>\n",
       "      <td>1</td>\n",
       "      <td>0</td>\n",
       "      <td>-0.384833</td>\n",
       "      <td>0.250511</td>\n",
       "      <td>4</td>\n",
       "      <td>16.01947,108.25592</td>\n",
       "    </tr>\n",
       "  </tbody>\n",
       "</table>\n",
       "</div>"
      ],
      "text/plain": [
       "             Street           Ward  District    Prices      Area    toFace   \n",
       "0            Hà Mục   Hòa Thọ Đông         0 -0.109935  0.331876   Tây Nam  \\\n",
       "1          Thi Sách  Hòa Thuận Tây         2 -0.504485  0.010225     Không   \n",
       "2     Ông Ích Khiêm      Tam Thuận         6  0.974593 -0.375756       Tây   \n",
       "3         Núi Thành  Hòa Cường Bắc         2  1.469697  1.125282       Tây   \n",
       "4   Trương Văn Hiến        Khuê Mỹ         4  0.371615  0.117442  Đông Nam   \n",
       "\n",
       "   type  certificate     width    length  floors            Location  \n",
       "0     1            1 -0.384833  0.532496       4  16.01918,108.19537  \n",
       "1     1            1  1.214177 -0.987467       1   16.0546,108.20547  \n",
       "2     1            0 -0.839577  0.198567       3   16.06653,108.2142  \n",
       "3     1            0  0.486759  0.358670       3  16.03194,108.22279  \n",
       "4     1            0 -0.384833  0.250511       4  16.01947,108.25592  "
      ]
     },
     "execution_count": 679,
     "metadata": {},
     "output_type": "execute_result"
    }
   ],
   "source": [
    "df.head(5)"
   ]
  },
  {
   "cell_type": "code",
   "execution_count": 680,
   "metadata": {},
   "outputs": [],
   "source": [
    "df[df.Location.isnull()]\n",
    "\n",
    "# Xóa các cột có giá trị NaN trong cột \"Location\"\n",
    "df = df.drop(df[df.Location.isnull()].index)"
   ]
  },
  {
   "cell_type": "code",
   "execution_count": 681,
   "metadata": {},
   "outputs": [],
   "source": [
    "tttp = (16.061203,108.226744)\n",
    "beach = (16.0704,108.2461)\n",
    "airport = (16.043889 ,108.199444)\n",
    "def distance(l1,l2):\n",
    "    # return (np.sqrt((l1[0]-l2[0])**2+(l1[1]-l2[1])**2)*1000)\n",
    "    lat1_rad = np.radians(l1[0])\n",
    "    lon1_rad = np.radians(l1[1])\n",
    "    lat2_rad = np.radians(l2[0])\n",
    "    lon2_rad = np.radians(l2[1])\n",
    "\n",
    "    # Tính khoảng cách\n",
    "    delta_lat = lat2_rad - lat1_rad\n",
    "    delta_lon = lon2_rad - lon1_rad\n",
    "    a = np.sin(delta_lat / 2) ** 2 + np.cos(lat1_rad) * np.cos(lat2_rad) * np.sin(delta_lon / 2) ** 2\n",
    "    c = 2 * np.arctan2(np.sqrt(a), np.sqrt(1 - a))\n",
    "    radius = 6371  # Bán kính trái đất (đơn vị: kilômét)\n",
    "    distance = radius * c\n",
    "    return distance\n",
    "\n",
    "df['Latitude'] = (df['Location'].str.split(',',expand=True)[0])\n",
    "df['Longitude'] = df['Location'].str.split(',',expand=True)[1]"
   ]
  },
  {
   "cell_type": "code",
   "execution_count": 682,
   "metadata": {},
   "outputs": [],
   "source": [
    "df['Latitude']=df['Latitude'].astype('float32')\n",
    "df['Longitude']=df['Longitude'].astype('float32')"
   ]
  },
  {
   "cell_type": "code",
   "execution_count": 683,
   "metadata": {},
   "outputs": [],
   "source": [
    "df['DistanceToCenter'] = distance(tttp,(np.float64(df['Latitude']),np.float64(df['Longitude'])))\n",
    "df['DistanceToBeach']= distance(beach,(np.float64(df['Latitude']),np.float64(df['Longitude'])))\n",
    "df['DistanceToAirport']= distance(airport,(np.float64(df['Latitude']),np.float64(df['Longitude'])))"
   ]
  },
  {
   "attachments": {},
   "cell_type": "markdown",
   "metadata": {},
   "source": [
    "# Chia Train/Test"
   ]
  },
  {
   "cell_type": "code",
   "execution_count": 684,
   "metadata": {},
   "outputs": [],
   "source": [
    "# streets = ['Cao Thắng','Lê Đình Lý','Hùng Vương','Lê Lợi','3.2','Nguyễn Chí Thanh','Phan Châu Trinh','Tiểu La','2.9','Quang Trung','Đống Đa','Nguyễn Du','Lý Tự Trọng','Hoàng Diệu','Ông Ích Khiêm','Nguyễn Hoàng','Thái Phiên','Lê Hồng Phong','Hoàng Văn Thụ','Yên Bái','Trưng Nữ Vương','Ngô Gia Tự','Triệu Nữ Vương','Cao Thắng','Bắc Đẩu','Hải Hồ','Pasteur','Lê Đình Dương','Nguyễn Văn Linh','Lê Thanh Nghị','Xô Viết Nghệ Tĩnh','Trần Phú','Bạch Đằng','Nguyễn Tất Thành','Thái Thị Bôi','Lê Độ','Trường Chinh','Hải Phòng','Điện Biên Phủ','Hà Huy Tập','Trần Cao Vân','Nguyễn Tri Phương','Lê Lợi','Hùng Vương','Lê Đình Lý','Duy Tân','Tiểu La','Nguyễn Phước Nguyên','Xô Viết Nghệ Tĩnh','2.9','Nguyễn Lương Bằng','Nguyễn tất Thành','Bàu Tràm','Âu Cơ','Đoàn Phú Thứ','Nam Cao','Lạc Long Quân','Nguyễn Sinh Sắc','Kinh Dương Vương','Nguyên Chánh','Trần Đình Tri','Hoàng Văn Thái','Tố Hữu','Tôn Đức Thắng','Yết Kiêu','Lý Tử Tấn','Hoàng Sa','Lê Đức Thọ','Phan Bá Phiến','Trần Nhân Tông','Trương Định','Chu Huy Mân','Nại Hiên Đông','Dương Lâm','Lê Văn Duyệt','Dương Vân Nga','Lê Chân','Lý Đạo Hành','Ngô Quyền','Lê Văn Thứ','Võ Nguyên Giáp','Hồ Nghinh','Nguyễn Công Trứ','Võ Văn Kiệt','Lê Hữu Trác','Nguyễn Văn Thoại','Trần Hưng Đạo','Lê Văn Duyệt','Võ Nguyên Giáp','Lê Quang Đạo','Châu Thị Vĩnh tế','Phan Tứ','Trần Văn Dư','Hồ Xuân Hương','Bà Huyện Thanh Quan','Võ Như Hưng','Hoài Thanh','An Dương Vương','Phạm Hữu Kính','Lê Văn Hưu','Hồ Huân Nghiệp','Nguyễn Lữ','Đoàn Khuê','Trịnh Lỗi','Nghiêm Xuân yêm','Minh Mạng','Nguyễn Xiến','Trường Sa','Nguyễn Duy Trinh','Mai Đăng Chơn','Võ Chí Công','Phạm Đức Nam','Lê Quát','Trường Chinh','Tôn Đản','Lê Trọng Tấn','Lê Đại Hành','Xô Viết Nghệ Tĩnh','Thăng Long','Phạm Tứ','Phan Khôi','Lê Quang Định','Trần Nam Trung','Võ Chí Công','Hồ Sĩ Dương','Quốc lộ 14B']\n",
    "# streets = [str(x).lower() for x in streets]\n",
    "# df['Street']=df['Street'].str.lower()\n",
    "# mask = df['Street'].str.contains('|'.join(streets))\n",
    "# df['isBigRoad'] = mask\n",
    "# df['isBigRoad']=le.fit_transform(df['isBigRoad'])"
   ]
  },
  {
   "cell_type": "code",
   "execution_count": 685,
   "metadata": {},
   "outputs": [
    {
     "name": "stdout",
     "output_type": "stream",
     "text": [
      "(10227, 8)\n",
      "(4383, 8)\n"
     ]
    }
   ],
   "source": [
    "from sklearn.model_selection import train_test_split\n",
    "house = df[['Prices','District','Area','type','certificate','width','length','floors']]\n",
    "df_train, df_test = train_test_split(house, test_size = 0.3, random_state=42)\n",
    "\n",
    "print(df_train.shape)\n",
    "print(df_test.shape)"
   ]
  },
  {
   "cell_type": "code",
   "execution_count": 686,
   "metadata": {},
   "outputs": [
    {
     "name": "stdout",
     "output_type": "stream",
     "text": [
      "X_train: (10227, 8)\n",
      "X_test: (4383, 8)\n"
     ]
    }
   ],
   "source": [
    "X_train = df_train.copy()\n",
    "X_test = df_test.copy()\n",
    "\n",
    "print(\"X_train: {0}\".format(X_train.shape))\n",
    "print(\"X_test: {0}\".format(X_test.shape))"
   ]
  },
  {
   "cell_type": "code",
   "execution_count": 687,
   "metadata": {},
   "outputs": [
    {
     "name": "stdout",
     "output_type": "stream",
     "text": [
      "Y_train: (10227,)\n",
      "y_test: (4383,)\n"
     ]
    }
   ],
   "source": [
    "y_train = X_train.pop('Prices')\n",
    "y_test = X_test.pop('Prices')\n",
    "print(\"Y_train: {0}\".format(y_train.shape))\n",
    "print(\"y_test: {0}\".format(y_test.shape))"
   ]
  },
  {
   "cell_type": "code",
   "execution_count": 688,
   "metadata": {},
   "outputs": [],
   "source": [
    "# streets = ['Cao Thắng','Lê Đình Lý','Hùng Vương','Lê Lợi','3.2','Nguyễn Chí Thanh','Phan Châu Trinh','Tiểu La','2.9','Quang Trung','Đống Đa','Nguyễn Du','Lý Tự Trọng','Hoàng Diệu','Ông Ích Khiêm','Nguyễn Hoàng','Thái Phiên','Lê Hồng Phong','Hoàng Văn Thụ','Yên Bái','Trưng Nữ Vương','Ngô Gia Tự','Triệu Nữ Vương','Cao Thắng','Bắc Đẩu','Hải Hồ','Pasteur','Lê Đình Dương','Nguyễn Văn Linh','Lê Thanh Nghị','Xô Viết Nghệ Tĩnh','Trần Phú','Bạch Đằng','Nguyễn Tất Thành','Thái Thị Bôi','Lê Độ','Trường Chinh','Hải Phòng','Điện Biên Phủ','Hà Huy Tập','Trần Cao Vân','Nguyễn Tri Phương','Lê Lợi','Hùng Vương','Lê Đình Lý','Duy Tân','Tiểu La','Nguyễn Phước Nguyên','Xô Viết Nghệ Tĩnh','2.9','Nguyễn Lương Bằng','Nguyễn tất Thành','Bàu Tràm','Âu Cơ','Đoàn Phú Thứ','Nam Cao','Lạc Long Quân','Nguyễn Sinh Sắc','Kinh Dương Vương','Nguyên Chánh','Trần Đình Tri','Hoàng Văn Thái','Tố Hữu','Tôn Đức Thắng','Yết Kiêu','Lý Tử Tấn','Hoàng Sa','Lê Đức Thọ','Phan Bá Phiến','Trần Nhân Tông','Trương Định','Chu Huy Mân','Nại Hiên Đông','Dương Lâm','Lê Văn Duyệt','Dương Vân Nga','Lê Chân','Lý Đạo Hành','Ngô Quyền','Lê Văn Thứ','Võ Nguyên Giáp','Hồ Nghinh','Nguyễn Công Trứ','Võ Văn Kiệt','Lê Hữu Trác','Nguyễn Văn Thoại','Trần Hưng Đạo','Lê Văn Duyệt','Võ Nguyên Giáp','Lê Quang Đạo','Châu Thị Vĩnh tế','Phan Tứ','Trần Văn Dư','Hồ Xuân Hương','Bà Huyện Thanh Quan','Võ Như Hưng','Hoài Thanh','An Dương Vương','Phạm Hữu Kính','Lê Văn Hưu','Hồ Huân Nghiệp','Nguyễn Lữ','Đoàn Khuê','Trịnh Lỗi','Nghiêm Xuân yêm','Minh Mạng','Nguyễn Xiến','Trường Sa','Nguyễn Duy Trinh','Mai Đăng Chơn','Võ Chí Công','Phạm Đức Nam','Lê Quát','Trường Chinh','Tôn Đản','Lê Trọng Tấn','Lê Đại Hành','Xô Viết Nghệ Tĩnh','Thăng Long','Phạm Tứ','Phan Khôi','Lê Quang Định','Trần Nam Trung','Võ Chí Công','Hồ Sĩ Dương','Quốc lộ 14B']\n",
    "# streets = [str(x).lower() for x in streets]\n",
    "# df['Street']=df['Street'].str.lower()\n",
    "# mask = df['Street'].str.contains('|'.join(streets))\n",
    "# df['isBigRoad'] = mask\n",
    "# df['isBigRoad']=le.fit_transform(df['isBigRoad'])"
   ]
  },
  {
   "cell_type": "code",
   "execution_count": 689,
   "metadata": {},
   "outputs": [
    {
     "name": "stdout",
     "output_type": "stream",
     "text": [
      "(11688, 10)\n",
      "(2922, 10)\n"
     ]
    }
   ],
   "source": [
    "from sklearn.model_selection import train_test_split\n",
    "house = df[['Prices','District','Area','type','certificate','width','length','floors','DistanceToCenter','DistanceToBeach']]\n",
    "df_train, df_test = train_test_split(house, test_size = 0.2, random_state=42)\n",
    "\n",
    "print(df_train.shape)\n",
    "print(df_test.shape)"
   ]
  },
  {
   "cell_type": "code",
   "execution_count": 690,
   "metadata": {},
   "outputs": [
    {
     "name": "stdout",
     "output_type": "stream",
     "text": [
      "X_train: (11688, 10)\n",
      "X_test: (2922, 10)\n"
     ]
    }
   ],
   "source": [
    "X_train = df_train.copy()\n",
    "X_test = df_test.copy()\n",
    "\n",
    "print(\"X_train: {0}\".format(X_train.shape))\n",
    "print(\"X_test: {0}\".format(X_test.shape))"
   ]
  },
  {
   "cell_type": "code",
   "execution_count": 691,
   "metadata": {},
   "outputs": [
    {
     "name": "stdout",
     "output_type": "stream",
     "text": [
      "Y_train: (11688,)\n",
      "y_test: (2922,)\n"
     ]
    }
   ],
   "source": [
    "y_train = X_train.pop('Prices')\n",
    "y_test = X_test.pop('Prices')\n",
    "print(\"Y_train: {0}\".format(y_train.shape))\n",
    "print(\"y_test: {0}\".format(y_test.shape))"
   ]
  },
  {
   "attachments": {},
   "cell_type": "markdown",
   "metadata": {},
   "source": [
    "# Random Forest Regressor (QKhang)"
   ]
  },
  {
   "cell_type": "code",
   "execution_count": 692,
   "metadata": {},
   "outputs": [
    {
     "data": {
      "text/html": [
       "<style>#sk-container-id-26 {color: black;background-color: white;}#sk-container-id-26 pre{padding: 0;}#sk-container-id-26 div.sk-toggleable {background-color: white;}#sk-container-id-26 label.sk-toggleable__label {cursor: pointer;display: block;width: 100%;margin-bottom: 0;padding: 0.3em;box-sizing: border-box;text-align: center;}#sk-container-id-26 label.sk-toggleable__label-arrow:before {content: \"▸\";float: left;margin-right: 0.25em;color: #696969;}#sk-container-id-26 label.sk-toggleable__label-arrow:hover:before {color: black;}#sk-container-id-26 div.sk-estimator:hover label.sk-toggleable__label-arrow:before {color: black;}#sk-container-id-26 div.sk-toggleable__content {max-height: 0;max-width: 0;overflow: hidden;text-align: left;background-color: #f0f8ff;}#sk-container-id-26 div.sk-toggleable__content pre {margin: 0.2em;color: black;border-radius: 0.25em;background-color: #f0f8ff;}#sk-container-id-26 input.sk-toggleable__control:checked~div.sk-toggleable__content {max-height: 200px;max-width: 100%;overflow: auto;}#sk-container-id-26 input.sk-toggleable__control:checked~label.sk-toggleable__label-arrow:before {content: \"▾\";}#sk-container-id-26 div.sk-estimator input.sk-toggleable__control:checked~label.sk-toggleable__label {background-color: #d4ebff;}#sk-container-id-26 div.sk-label input.sk-toggleable__control:checked~label.sk-toggleable__label {background-color: #d4ebff;}#sk-container-id-26 input.sk-hidden--visually {border: 0;clip: rect(1px 1px 1px 1px);clip: rect(1px, 1px, 1px, 1px);height: 1px;margin: -1px;overflow: hidden;padding: 0;position: absolute;width: 1px;}#sk-container-id-26 div.sk-estimator {font-family: monospace;background-color: #f0f8ff;border: 1px dotted black;border-radius: 0.25em;box-sizing: border-box;margin-bottom: 0.5em;}#sk-container-id-26 div.sk-estimator:hover {background-color: #d4ebff;}#sk-container-id-26 div.sk-parallel-item::after {content: \"\";width: 100%;border-bottom: 1px solid gray;flex-grow: 1;}#sk-container-id-26 div.sk-label:hover label.sk-toggleable__label {background-color: #d4ebff;}#sk-container-id-26 div.sk-serial::before {content: \"\";position: absolute;border-left: 1px solid gray;box-sizing: border-box;top: 0;bottom: 0;left: 50%;z-index: 0;}#sk-container-id-26 div.sk-serial {display: flex;flex-direction: column;align-items: center;background-color: white;padding-right: 0.2em;padding-left: 0.2em;position: relative;}#sk-container-id-26 div.sk-item {position: relative;z-index: 1;}#sk-container-id-26 div.sk-parallel {display: flex;align-items: stretch;justify-content: center;background-color: white;position: relative;}#sk-container-id-26 div.sk-item::before, #sk-container-id-26 div.sk-parallel-item::before {content: \"\";position: absolute;border-left: 1px solid gray;box-sizing: border-box;top: 0;bottom: 0;left: 50%;z-index: -1;}#sk-container-id-26 div.sk-parallel-item {display: flex;flex-direction: column;z-index: 1;position: relative;background-color: white;}#sk-container-id-26 div.sk-parallel-item:first-child::after {align-self: flex-end;width: 50%;}#sk-container-id-26 div.sk-parallel-item:last-child::after {align-self: flex-start;width: 50%;}#sk-container-id-26 div.sk-parallel-item:only-child::after {width: 0;}#sk-container-id-26 div.sk-dashed-wrapped {border: 1px dashed gray;margin: 0 0.4em 0.5em 0.4em;box-sizing: border-box;padding-bottom: 0.4em;background-color: white;}#sk-container-id-26 div.sk-label label {font-family: monospace;font-weight: bold;display: inline-block;line-height: 1.2em;}#sk-container-id-26 div.sk-label-container {text-align: center;}#sk-container-id-26 div.sk-container {/* jupyter's `normalize.less` sets `[hidden] { display: none; }` but bootstrap.min.css set `[hidden] { display: none !important; }` so we also need the `!important` here to be able to override the default hidden behavior on the sphinx rendered scikit-learn.org. See: https://github.com/scikit-learn/scikit-learn/issues/21755 */display: inline-block !important;position: relative;}#sk-container-id-26 div.sk-text-repr-fallback {display: none;}</style><div id=\"sk-container-id-26\" class=\"sk-top-container\"><div class=\"sk-text-repr-fallback\"><pre>RandomForestRegressor(random_state=13)</pre><b>In a Jupyter environment, please rerun this cell to show the HTML representation or trust the notebook. <br />On GitHub, the HTML representation is unable to render, please try loading this page with nbviewer.org.</b></div><div class=\"sk-container\" hidden><div class=\"sk-item\"><div class=\"sk-estimator sk-toggleable\"><input class=\"sk-toggleable__control sk-hidden--visually\" id=\"sk-estimator-id-26\" type=\"checkbox\" checked><label for=\"sk-estimator-id-26\" class=\"sk-toggleable__label sk-toggleable__label-arrow\">RandomForestRegressor</label><div class=\"sk-toggleable__content\"><pre>RandomForestRegressor(random_state=13)</pre></div></div></div></div></div>"
      ],
      "text/plain": [
       "RandomForestRegressor(random_state=13)"
      ]
     },
     "execution_count": 692,
     "metadata": {},
     "output_type": "execute_result"
    }
   ],
   "source": [
    "from sklearn.ensemble import RandomForestRegressor\n",
    "model_RD = RandomForestRegressor(random_state=13)\n",
    "model_RD.fit(X_train, y_train)"
   ]
  },
  {
   "cell_type": "code",
   "execution_count": 696,
   "metadata": {},
   "outputs": [
    {
     "data": {
      "text/plain": [
       "{'fit_time': array([3.96714997, 3.885005  , 3.80036855, 3.79137778, 3.78875709]),\n",
       " 'score_time': array([0.05088067, 0.05132246, 0.05375075, 0.06159186, 0.05221009]),\n",
       " 'test_score': array([0.81562628, 0.81698237, 0.81219745, 0.80990551, 0.81028331])}"
      ]
     },
     "execution_count": 696,
     "metadata": {},
     "output_type": "execute_result"
    }
   ],
   "source": [
    "from sklearn.model_selection import cross_validate\n",
    "model_RD = RandomForestRegressor(random_state=13)\n",
    "scores = cross_validate(model_RD,X_train,y_train)\n",
    "scores.mean()"
   ]
  },
  {
   "cell_type": "code",
   "execution_count": 693,
   "metadata": {},
   "outputs": [],
   "source": [
    "predictions_RD = model_RD.predict(X_test)\n"
   ]
  },
  {
   "cell_type": "code",
   "execution_count": 694,
   "metadata": {},
   "outputs": [
    {
     "name": "stdout",
     "output_type": "stream",
     "text": [
      "0.8384770151761002\n"
     ]
    }
   ],
   "source": [
    "from sklearn.metrics import r2_score \n",
    "r2_score_RD = r2_score(y_test, predictions_RD)\n",
    "print(r2_score_RD)"
   ]
  },
  {
   "cell_type": "code",
   "execution_count": null,
   "metadata": {},
   "outputs": [],
   "source": [
    "from sklearn.model_selection import cross_validate"
   ]
  },
  {
   "cell_type": "code",
   "execution_count": 695,
   "metadata": {},
   "outputs": [
    {
     "name": "stdout",
     "output_type": "stream",
     "text": [
      "       Price_Test  Price_Predict\n",
      "3976     1.383244       1.079963\n",
      "11582    1.469697       1.463862\n",
      "1454    -0.176286      -0.205672\n",
      "9724    -0.062432       0.116033\n",
      "10383    1.774793       1.356611\n",
      "5039    -0.571794      -0.627608\n",
      "1618     1.774793       1.493907\n",
      "7282    -0.594973      -0.191256\n",
      "2484    -0.822411      -0.885853\n",
      "3502     0.027266       0.026926\n"
     ]
    }
   ],
   "source": [
    "rs = {\n",
    "  \"Price_Test\": y_test[:10],\n",
    "  \"Price_Predict\": predictions_RD[:10]\n",
    "}\n",
    "\n",
    "df_temp = pd.DataFrame(rs)\n",
    "print(df_temp)"
   ]
  }
 ],
 "metadata": {
  "kernelspec": {
   "display_name": "env",
   "language": "python",
   "name": "python3"
  },
  "language_info": {
   "codemirror_mode": {
    "name": "ipython",
    "version": 3
   },
   "file_extension": ".py",
   "mimetype": "text/x-python",
   "name": "python",
   "nbconvert_exporter": "python",
   "pygments_lexer": "ipython3",
   "version": "3.10.6"
  },
  "orig_nbformat": 4
 },
 "nbformat": 4,
 "nbformat_minor": 2
}
