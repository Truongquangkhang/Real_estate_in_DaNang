{
 "cells": [
  {
   "cell_type": "code",
   "execution_count": 187,
   "metadata": {},
   "outputs": [],
   "source": [
    "import numpy as np\n",
    "import pandas as pd\n",
    "import matplotlib.pyplot as plt\n",
    "import seaborn as sns\n",
    "import re"
   ]
  },
  {
   "cell_type": "code",
   "execution_count": 188,
   "metadata": {},
   "outputs": [],
   "source": [
    "df = pd.read_csv('raw_data.csv')"
   ]
  },
  {
   "cell_type": "code",
   "execution_count": 189,
   "metadata": {},
   "outputs": [
    {
     "data": {
      "text/html": [
       "<div>\n",
       "<style scoped>\n",
       "    .dataframe tbody tr th:only-of-type {\n",
       "        vertical-align: middle;\n",
       "    }\n",
       "\n",
       "    .dataframe tbody tr th {\n",
       "        vertical-align: top;\n",
       "    }\n",
       "\n",
       "    .dataframe thead th {\n",
       "        text-align: right;\n",
       "    }\n",
       "</style>\n",
       "<table border=\"1\" class=\"dataframe\">\n",
       "  <thead>\n",
       "    <tr style=\"text-align: right;\">\n",
       "      <th></th>\n",
       "      <th>Address</th>\n",
       "      <th>Prices</th>\n",
       "      <th>Area</th>\n",
       "      <th>toFace</th>\n",
       "      <th>type</th>\n",
       "      <th>certificate</th>\n",
       "      <th>width</th>\n",
       "      <th>length</th>\n",
       "      <th>floors</th>\n",
       "    </tr>\n",
       "  </thead>\n",
       "  <tbody>\n",
       "    <tr>\n",
       "      <th>0</th>\n",
       "      <td>Đường Hà Mục, Phường Hòa Thọ Đông, Quận Cẩm L...</td>\n",
       "      <td>5,15 tỷ</td>\n",
       "      <td>100 m2</td>\n",
       "      <td>Tây Nam</td>\n",
       "      <td>Nhà mặt tiền</td>\n",
       "      <td>---</td>\n",
       "      <td>5m</td>\n",
       "      <td>20m</td>\n",
       "      <td>4</td>\n",
       "    </tr>\n",
       "    <tr>\n",
       "      <th>1</th>\n",
       "      <td>Đường Thi Sách, Phường Hòa Thuận Tây, Quận Hả...</td>\n",
       "      <td>4,1 tỷ</td>\n",
       "      <td>85 m2</td>\n",
       "      <td>_</td>\n",
       "      <td>Nhà mặt tiền</td>\n",
       "      <td>---</td>\n",
       "      <td>---</td>\n",
       "      <td>---</td>\n",
       "      <td>1</td>\n",
       "    </tr>\n",
       "    <tr>\n",
       "      <th>2</th>\n",
       "      <td>Đường Ông Ích Khiêm, Phường Tam Thuận, Quận T...</td>\n",
       "      <td>11 tỷ</td>\n",
       "      <td>67 m2</td>\n",
       "      <td>Tây</td>\n",
       "      <td>Nhà mặt tiền</td>\n",
       "      <td>Sổ hồng/ Sổ đỏ</td>\n",
       "      <td>3,8m</td>\n",
       "      <td>---</td>\n",
       "      <td>3</td>\n",
       "    </tr>\n",
       "    <tr>\n",
       "      <th>3</th>\n",
       "      <td>Đường Núi Thành, Phường Hòa Cường Bắc, Quận H...</td>\n",
       "      <td>17,5 tỷ</td>\n",
       "      <td>137 m2</td>\n",
       "      <td>Tây</td>\n",
       "      <td>Nhà mặt tiền</td>\n",
       "      <td>Sổ hồng/ Sổ đỏ</td>\n",
       "      <td>7,3m</td>\n",
       "      <td>---</td>\n",
       "      <td>3</td>\n",
       "    </tr>\n",
       "    <tr>\n",
       "      <th>4</th>\n",
       "      <td>Đường Trương Văn Hiến, Phường Khuê Mỹ, Quận N...</td>\n",
       "      <td>7 tỷ</td>\n",
       "      <td>90 m2</td>\n",
       "      <td>Đông Nam</td>\n",
       "      <td>Nhà mặt tiền</td>\n",
       "      <td>Sổ hồng/ Sổ đỏ</td>\n",
       "      <td>5m</td>\n",
       "      <td>18m</td>\n",
       "      <td>4</td>\n",
       "    </tr>\n",
       "  </tbody>\n",
       "</table>\n",
       "</div>"
      ],
      "text/plain": [
       "                                             Address     Prices     Area   \n",
       "0   Đường Hà Mục, Phường Hòa Thọ Đông, Quận Cẩm L...   5,15 tỷ    100 m2  \\\n",
       "1   Đường Thi Sách, Phường Hòa Thuận Tây, Quận Hả...    4,1 tỷ     85 m2   \n",
       "2   Đường Ông Ích Khiêm, Phường Tam Thuận, Quận T...     11 tỷ     67 m2   \n",
       "3   Đường Núi Thành, Phường Hòa Cường Bắc, Quận H...   17,5 tỷ    137 m2   \n",
       "4   Đường Trương Văn Hiến, Phường Khuê Mỹ, Quận N...      7 tỷ     90 m2   \n",
       "\n",
       "     toFace          type     certificate width length floors  \n",
       "0   Tây Nam  Nhà mặt tiền             ---    5m    20m      4  \n",
       "1         _  Nhà mặt tiền             ---   ---    ---      1  \n",
       "2       Tây  Nhà mặt tiền  Sổ hồng/ Sổ đỏ  3,8m    ---      3  \n",
       "3       Tây  Nhà mặt tiền  Sổ hồng/ Sổ đỏ  7,3m    ---      3  \n",
       "4  Đông Nam  Nhà mặt tiền  Sổ hồng/ Sổ đỏ    5m    18m      4  "
      ]
     },
     "execution_count": 189,
     "metadata": {},
     "output_type": "execute_result"
    }
   ],
   "source": [
    "df.head()"
   ]
  },
  {
   "cell_type": "code",
   "execution_count": 190,
   "metadata": {},
   "outputs": [
    {
     "name": "stdout",
     "output_type": "stream",
     "text": [
      "<class 'pandas.core.frame.DataFrame'>\n",
      "RangeIndex: 14941 entries, 0 to 14940\n",
      "Data columns (total 9 columns):\n",
      " #   Column       Non-Null Count  Dtype \n",
      "---  ------       --------------  ----- \n",
      " 0   Address      14941 non-null  object\n",
      " 1   Prices       14941 non-null  object\n",
      " 2   Area         14941 non-null  object\n",
      " 3   toFace       14941 non-null  object\n",
      " 4   type         14941 non-null  object\n",
      " 5   certificate  14941 non-null  object\n",
      " 6   width        14941 non-null  object\n",
      " 7   length       14941 non-null  object\n",
      " 8   floors       14941 non-null  object\n",
      "dtypes: object(9)\n",
      "memory usage: 1.0+ MB\n"
     ]
    }
   ],
   "source": [
    "df.info()"
   ]
  },
  {
   "attachments": {},
   "cell_type": "markdown",
   "metadata": {},
   "source": [
    "## Clean Data"
   ]
  },
  {
   "attachments": {},
   "cell_type": "markdown",
   "metadata": {},
   "source": [
    "### Prices"
   ]
  },
  {
   "attachments": {},
   "cell_type": "markdown",
   "metadata": {},
   "source": [
    "- Loại bỏ chữ tỷ trong cột prices\n",
    "- Thay thế dấu ',' trong cột Prices thành dấu '.'\n",
    "- Những cột nào định dạng sai không phải là số thì chuyển thành NaN"
   ]
  },
  {
   "cell_type": "code",
   "execution_count": 191,
   "metadata": {},
   "outputs": [],
   "source": [
    "df['Prices'] = df['Prices'].apply(lambda x: x.strip(' tỷ ').replace(' ', ''))\n",
    "df['Prices'] = df['Prices'].apply(lambda x: x.replace(',', '.'))\n",
    "df.loc[:,'Prices'] = pd.to_numeric(df['Prices'], errors='coerce')"
   ]
  },
  {
   "cell_type": "code",
   "execution_count": 192,
   "metadata": {},
   "outputs": [
    {
     "data": {
      "text/html": [
       "<div>\n",
       "<style scoped>\n",
       "    .dataframe tbody tr th:only-of-type {\n",
       "        vertical-align: middle;\n",
       "    }\n",
       "\n",
       "    .dataframe tbody tr th {\n",
       "        vertical-align: top;\n",
       "    }\n",
       "\n",
       "    .dataframe thead th {\n",
       "        text-align: right;\n",
       "    }\n",
       "</style>\n",
       "<table border=\"1\" class=\"dataframe\">\n",
       "  <thead>\n",
       "    <tr style=\"text-align: right;\">\n",
       "      <th></th>\n",
       "      <th>Address</th>\n",
       "      <th>Prices</th>\n",
       "      <th>Area</th>\n",
       "      <th>toFace</th>\n",
       "      <th>type</th>\n",
       "      <th>certificate</th>\n",
       "      <th>width</th>\n",
       "      <th>length</th>\n",
       "      <th>floors</th>\n",
       "    </tr>\n",
       "  </thead>\n",
       "  <tbody>\n",
       "    <tr>\n",
       "      <th>0</th>\n",
       "      <td>Đường Hà Mục, Phường Hòa Thọ Đông, Quận Cẩm L...</td>\n",
       "      <td>5.15</td>\n",
       "      <td>100 m2</td>\n",
       "      <td>Tây Nam</td>\n",
       "      <td>Nhà mặt tiền</td>\n",
       "      <td>---</td>\n",
       "      <td>5m</td>\n",
       "      <td>20m</td>\n",
       "      <td>4</td>\n",
       "    </tr>\n",
       "    <tr>\n",
       "      <th>1</th>\n",
       "      <td>Đường Thi Sách, Phường Hòa Thuận Tây, Quận Hả...</td>\n",
       "      <td>4.1</td>\n",
       "      <td>85 m2</td>\n",
       "      <td>_</td>\n",
       "      <td>Nhà mặt tiền</td>\n",
       "      <td>---</td>\n",
       "      <td>---</td>\n",
       "      <td>---</td>\n",
       "      <td>1</td>\n",
       "    </tr>\n",
       "    <tr>\n",
       "      <th>2</th>\n",
       "      <td>Đường Ông Ích Khiêm, Phường Tam Thuận, Quận T...</td>\n",
       "      <td>11.0</td>\n",
       "      <td>67 m2</td>\n",
       "      <td>Tây</td>\n",
       "      <td>Nhà mặt tiền</td>\n",
       "      <td>Sổ hồng/ Sổ đỏ</td>\n",
       "      <td>3,8m</td>\n",
       "      <td>---</td>\n",
       "      <td>3</td>\n",
       "    </tr>\n",
       "    <tr>\n",
       "      <th>3</th>\n",
       "      <td>Đường Núi Thành, Phường Hòa Cường Bắc, Quận H...</td>\n",
       "      <td>17.5</td>\n",
       "      <td>137 m2</td>\n",
       "      <td>Tây</td>\n",
       "      <td>Nhà mặt tiền</td>\n",
       "      <td>Sổ hồng/ Sổ đỏ</td>\n",
       "      <td>7,3m</td>\n",
       "      <td>---</td>\n",
       "      <td>3</td>\n",
       "    </tr>\n",
       "    <tr>\n",
       "      <th>4</th>\n",
       "      <td>Đường Trương Văn Hiến, Phường Khuê Mỹ, Quận N...</td>\n",
       "      <td>7.0</td>\n",
       "      <td>90 m2</td>\n",
       "      <td>Đông Nam</td>\n",
       "      <td>Nhà mặt tiền</td>\n",
       "      <td>Sổ hồng/ Sổ đỏ</td>\n",
       "      <td>5m</td>\n",
       "      <td>18m</td>\n",
       "      <td>4</td>\n",
       "    </tr>\n",
       "  </tbody>\n",
       "</table>\n",
       "</div>"
      ],
      "text/plain": [
       "                                             Address Prices     Area   \n",
       "0   Đường Hà Mục, Phường Hòa Thọ Đông, Quận Cẩm L...   5.15   100 m2  \\\n",
       "1   Đường Thi Sách, Phường Hòa Thuận Tây, Quận Hả...    4.1    85 m2   \n",
       "2   Đường Ông Ích Khiêm, Phường Tam Thuận, Quận T...   11.0    67 m2   \n",
       "3   Đường Núi Thành, Phường Hòa Cường Bắc, Quận H...   17.5   137 m2   \n",
       "4   Đường Trương Văn Hiến, Phường Khuê Mỹ, Quận N...    7.0    90 m2   \n",
       "\n",
       "     toFace          type     certificate width length floors  \n",
       "0   Tây Nam  Nhà mặt tiền             ---    5m    20m      4  \n",
       "1         _  Nhà mặt tiền             ---   ---    ---      1  \n",
       "2       Tây  Nhà mặt tiền  Sổ hồng/ Sổ đỏ  3,8m    ---      3  \n",
       "3       Tây  Nhà mặt tiền  Sổ hồng/ Sổ đỏ  7,3m    ---      3  \n",
       "4  Đông Nam  Nhà mặt tiền  Sổ hồng/ Sổ đỏ    5m    18m      4  "
      ]
     },
     "execution_count": 192,
     "metadata": {},
     "output_type": "execute_result"
    }
   ],
   "source": [
    "df.head()"
   ]
  },
  {
   "attachments": {},
   "cell_type": "markdown",
   "metadata": {},
   "source": [
    "### Area"
   ]
  },
  {
   "attachments": {},
   "cell_type": "markdown",
   "metadata": {},
   "source": [
    "- Xóa 'm2'\n",
    "- Những biến Area nào không phải định dạng là số thì chuyển vè NaN"
   ]
  },
  {
   "cell_type": "code",
   "execution_count": 193,
   "metadata": {},
   "outputs": [],
   "source": [
    "df['Area'] = df['Area'].apply(lambda x: x.strip(' m2 ').replace(' ', '').replace('KXĐ',''))\n",
    "df.loc[:,'Area'] = pd.to_numeric(df['Area'], errors='coerce')"
   ]
  },
  {
   "attachments": {},
   "cell_type": "markdown",
   "metadata": {},
   "source": [
    "Những giá trị area nào bằng 0 thì chuyển về NaN"
   ]
  },
  {
   "cell_type": "code",
   "execution_count": 194,
   "metadata": {},
   "outputs": [],
   "source": [
    "df.loc[df.Area==0,'Area']=np.nan"
   ]
  },
  {
   "cell_type": "code",
   "execution_count": 195,
   "metadata": {},
   "outputs": [
    {
     "data": {
      "text/html": [
       "<div>\n",
       "<style scoped>\n",
       "    .dataframe tbody tr th:only-of-type {\n",
       "        vertical-align: middle;\n",
       "    }\n",
       "\n",
       "    .dataframe tbody tr th {\n",
       "        vertical-align: top;\n",
       "    }\n",
       "\n",
       "    .dataframe thead th {\n",
       "        text-align: right;\n",
       "    }\n",
       "</style>\n",
       "<table border=\"1\" class=\"dataframe\">\n",
       "  <thead>\n",
       "    <tr style=\"text-align: right;\">\n",
       "      <th></th>\n",
       "      <th>Address</th>\n",
       "      <th>Prices</th>\n",
       "      <th>Area</th>\n",
       "      <th>toFace</th>\n",
       "      <th>type</th>\n",
       "      <th>certificate</th>\n",
       "      <th>width</th>\n",
       "      <th>length</th>\n",
       "      <th>floors</th>\n",
       "    </tr>\n",
       "  </thead>\n",
       "  <tbody>\n",
       "    <tr>\n",
       "      <th>0</th>\n",
       "      <td>Đường Hà Mục, Phường Hòa Thọ Đông, Quận Cẩm L...</td>\n",
       "      <td>5.15</td>\n",
       "      <td>100.0</td>\n",
       "      <td>Tây Nam</td>\n",
       "      <td>Nhà mặt tiền</td>\n",
       "      <td>---</td>\n",
       "      <td>5m</td>\n",
       "      <td>20m</td>\n",
       "      <td>4</td>\n",
       "    </tr>\n",
       "    <tr>\n",
       "      <th>1</th>\n",
       "      <td>Đường Thi Sách, Phường Hòa Thuận Tây, Quận Hả...</td>\n",
       "      <td>4.1</td>\n",
       "      <td>85.0</td>\n",
       "      <td>_</td>\n",
       "      <td>Nhà mặt tiền</td>\n",
       "      <td>---</td>\n",
       "      <td>---</td>\n",
       "      <td>---</td>\n",
       "      <td>1</td>\n",
       "    </tr>\n",
       "    <tr>\n",
       "      <th>2</th>\n",
       "      <td>Đường Ông Ích Khiêm, Phường Tam Thuận, Quận T...</td>\n",
       "      <td>11.0</td>\n",
       "      <td>67.0</td>\n",
       "      <td>Tây</td>\n",
       "      <td>Nhà mặt tiền</td>\n",
       "      <td>Sổ hồng/ Sổ đỏ</td>\n",
       "      <td>3,8m</td>\n",
       "      <td>---</td>\n",
       "      <td>3</td>\n",
       "    </tr>\n",
       "    <tr>\n",
       "      <th>3</th>\n",
       "      <td>Đường Núi Thành, Phường Hòa Cường Bắc, Quận H...</td>\n",
       "      <td>17.5</td>\n",
       "      <td>137.0</td>\n",
       "      <td>Tây</td>\n",
       "      <td>Nhà mặt tiền</td>\n",
       "      <td>Sổ hồng/ Sổ đỏ</td>\n",
       "      <td>7,3m</td>\n",
       "      <td>---</td>\n",
       "      <td>3</td>\n",
       "    </tr>\n",
       "    <tr>\n",
       "      <th>4</th>\n",
       "      <td>Đường Trương Văn Hiến, Phường Khuê Mỹ, Quận N...</td>\n",
       "      <td>7.0</td>\n",
       "      <td>90.0</td>\n",
       "      <td>Đông Nam</td>\n",
       "      <td>Nhà mặt tiền</td>\n",
       "      <td>Sổ hồng/ Sổ đỏ</td>\n",
       "      <td>5m</td>\n",
       "      <td>18m</td>\n",
       "      <td>4</td>\n",
       "    </tr>\n",
       "  </tbody>\n",
       "</table>\n",
       "</div>"
      ],
      "text/plain": [
       "                                             Address Prices   Area    toFace   \n",
       "0   Đường Hà Mục, Phường Hòa Thọ Đông, Quận Cẩm L...   5.15  100.0   Tây Nam  \\\n",
       "1   Đường Thi Sách, Phường Hòa Thuận Tây, Quận Hả...    4.1   85.0         _   \n",
       "2   Đường Ông Ích Khiêm, Phường Tam Thuận, Quận T...   11.0   67.0       Tây   \n",
       "3   Đường Núi Thành, Phường Hòa Cường Bắc, Quận H...   17.5  137.0       Tây   \n",
       "4   Đường Trương Văn Hiến, Phường Khuê Mỹ, Quận N...    7.0   90.0  Đông Nam   \n",
       "\n",
       "           type     certificate width length floors  \n",
       "0  Nhà mặt tiền             ---    5m    20m      4  \n",
       "1  Nhà mặt tiền             ---   ---    ---      1  \n",
       "2  Nhà mặt tiền  Sổ hồng/ Sổ đỏ  3,8m    ---      3  \n",
       "3  Nhà mặt tiền  Sổ hồng/ Sổ đỏ  7,3m    ---      3  \n",
       "4  Nhà mặt tiền  Sổ hồng/ Sổ đỏ    5m    18m      4  "
      ]
     },
     "execution_count": 195,
     "metadata": {},
     "output_type": "execute_result"
    }
   ],
   "source": [
    "df.head()"
   ]
  },
  {
   "attachments": {},
   "cell_type": "markdown",
   "metadata": {},
   "source": [
    "### toFace"
   ]
  },
  {
   "cell_type": "code",
   "execution_count": 196,
   "metadata": {},
   "outputs": [
    {
     "data": {
      "text/plain": [
       "array(['Tây Nam', '_', 'Tây', 'Đông Nam', 'Đông', 'Tây Bắc', 'Bắc',\n",
       "       'Đông Bắc', 'Nam'], dtype=object)"
      ]
     },
     "execution_count": 196,
     "metadata": {},
     "output_type": "execute_result"
    }
   ],
   "source": [
    "df['toFace'].unique()"
   ]
  },
  {
   "attachments": {},
   "cell_type": "markdown",
   "metadata": {},
   "source": [
    "- Chuyển '_' về là 'Không'"
   ]
  },
  {
   "cell_type": "code",
   "execution_count": 197,
   "metadata": {},
   "outputs": [],
   "source": [
    "df['toFace']=df['toFace'].apply(lambda x : x.replace('_', 'Không'))"
   ]
  },
  {
   "cell_type": "code",
   "execution_count": 198,
   "metadata": {},
   "outputs": [
    {
     "data": {
      "text/html": [
       "<div>\n",
       "<style scoped>\n",
       "    .dataframe tbody tr th:only-of-type {\n",
       "        vertical-align: middle;\n",
       "    }\n",
       "\n",
       "    .dataframe tbody tr th {\n",
       "        vertical-align: top;\n",
       "    }\n",
       "\n",
       "    .dataframe thead th {\n",
       "        text-align: right;\n",
       "    }\n",
       "</style>\n",
       "<table border=\"1\" class=\"dataframe\">\n",
       "  <thead>\n",
       "    <tr style=\"text-align: right;\">\n",
       "      <th></th>\n",
       "      <th>Address</th>\n",
       "      <th>Prices</th>\n",
       "      <th>Area</th>\n",
       "      <th>toFace</th>\n",
       "      <th>type</th>\n",
       "      <th>certificate</th>\n",
       "      <th>width</th>\n",
       "      <th>length</th>\n",
       "      <th>floors</th>\n",
       "    </tr>\n",
       "  </thead>\n",
       "  <tbody>\n",
       "    <tr>\n",
       "      <th>0</th>\n",
       "      <td>Đường Hà Mục, Phường Hòa Thọ Đông, Quận Cẩm L...</td>\n",
       "      <td>5.15</td>\n",
       "      <td>100.0</td>\n",
       "      <td>Tây Nam</td>\n",
       "      <td>Nhà mặt tiền</td>\n",
       "      <td>---</td>\n",
       "      <td>5m</td>\n",
       "      <td>20m</td>\n",
       "      <td>4</td>\n",
       "    </tr>\n",
       "    <tr>\n",
       "      <th>1</th>\n",
       "      <td>Đường Thi Sách, Phường Hòa Thuận Tây, Quận Hả...</td>\n",
       "      <td>4.1</td>\n",
       "      <td>85.0</td>\n",
       "      <td>Không</td>\n",
       "      <td>Nhà mặt tiền</td>\n",
       "      <td>---</td>\n",
       "      <td>---</td>\n",
       "      <td>---</td>\n",
       "      <td>1</td>\n",
       "    </tr>\n",
       "    <tr>\n",
       "      <th>2</th>\n",
       "      <td>Đường Ông Ích Khiêm, Phường Tam Thuận, Quận T...</td>\n",
       "      <td>11.0</td>\n",
       "      <td>67.0</td>\n",
       "      <td>Tây</td>\n",
       "      <td>Nhà mặt tiền</td>\n",
       "      <td>Sổ hồng/ Sổ đỏ</td>\n",
       "      <td>3,8m</td>\n",
       "      <td>---</td>\n",
       "      <td>3</td>\n",
       "    </tr>\n",
       "    <tr>\n",
       "      <th>3</th>\n",
       "      <td>Đường Núi Thành, Phường Hòa Cường Bắc, Quận H...</td>\n",
       "      <td>17.5</td>\n",
       "      <td>137.0</td>\n",
       "      <td>Tây</td>\n",
       "      <td>Nhà mặt tiền</td>\n",
       "      <td>Sổ hồng/ Sổ đỏ</td>\n",
       "      <td>7,3m</td>\n",
       "      <td>---</td>\n",
       "      <td>3</td>\n",
       "    </tr>\n",
       "    <tr>\n",
       "      <th>4</th>\n",
       "      <td>Đường Trương Văn Hiến, Phường Khuê Mỹ, Quận N...</td>\n",
       "      <td>7.0</td>\n",
       "      <td>90.0</td>\n",
       "      <td>Đông Nam</td>\n",
       "      <td>Nhà mặt tiền</td>\n",
       "      <td>Sổ hồng/ Sổ đỏ</td>\n",
       "      <td>5m</td>\n",
       "      <td>18m</td>\n",
       "      <td>4</td>\n",
       "    </tr>\n",
       "  </tbody>\n",
       "</table>\n",
       "</div>"
      ],
      "text/plain": [
       "                                             Address Prices   Area    toFace   \n",
       "0   Đường Hà Mục, Phường Hòa Thọ Đông, Quận Cẩm L...   5.15  100.0   Tây Nam  \\\n",
       "1   Đường Thi Sách, Phường Hòa Thuận Tây, Quận Hả...    4.1   85.0     Không   \n",
       "2   Đường Ông Ích Khiêm, Phường Tam Thuận, Quận T...   11.0   67.0       Tây   \n",
       "3   Đường Núi Thành, Phường Hòa Cường Bắc, Quận H...   17.5  137.0       Tây   \n",
       "4   Đường Trương Văn Hiến, Phường Khuê Mỹ, Quận N...    7.0   90.0  Đông Nam   \n",
       "\n",
       "           type     certificate width length floors  \n",
       "0  Nhà mặt tiền             ---    5m    20m      4  \n",
       "1  Nhà mặt tiền             ---   ---    ---      1  \n",
       "2  Nhà mặt tiền  Sổ hồng/ Sổ đỏ  3,8m    ---      3  \n",
       "3  Nhà mặt tiền  Sổ hồng/ Sổ đỏ  7,3m    ---      3  \n",
       "4  Nhà mặt tiền  Sổ hồng/ Sổ đỏ    5m    18m      4  "
      ]
     },
     "execution_count": 198,
     "metadata": {},
     "output_type": "execute_result"
    }
   ],
   "source": [
    "df.head()"
   ]
  },
  {
   "attachments": {},
   "cell_type": "markdown",
   "metadata": {},
   "source": [
    "### Type"
   ]
  },
  {
   "cell_type": "code",
   "execution_count": 199,
   "metadata": {},
   "outputs": [
    {
     "data": {
      "text/plain": [
       "array(['Nhà mặt tiền', 'Nhà trong hẻm'], dtype=object)"
      ]
     },
     "execution_count": 199,
     "metadata": {},
     "output_type": "execute_result"
    }
   ],
   "source": [
    "df['type'].unique()"
   ]
  },
  {
   "attachments": {},
   "cell_type": "markdown",
   "metadata": {},
   "source": [
    "### Certificate"
   ]
  },
  {
   "attachments": {},
   "cell_type": "markdown",
   "metadata": {},
   "source": [
    "Các giá trị của biến Certificate"
   ]
  },
  {
   "cell_type": "code",
   "execution_count": 200,
   "metadata": {},
   "outputs": [
    {
     "data": {
      "text/plain": [
       "array(['---', 'Sổ hồng/ Sổ đỏ', 'Giấy tờ hợp lệ'], dtype=object)"
      ]
     },
     "execution_count": 200,
     "metadata": {},
     "output_type": "execute_result"
    }
   ],
   "source": [
    "df['certificate'].unique()"
   ]
  },
  {
   "attachments": {},
   "cell_type": "markdown",
   "metadata": {},
   "source": [
    "Thay đổi giá trị '---' thành 'Không có'\n",
    "\n",
    "Thay đổi giá trị 'Giấy tờ hợp lệ' thành 'Sổ hồng/ Sổ đỏ'"
   ]
  },
  {
   "cell_type": "code",
   "execution_count": 201,
   "metadata": {},
   "outputs": [],
   "source": [
    "df[\"certificate\"] = df[\"certificate\"].apply(lambda x: 'Không có' if x == \"---\" else 'Giấy tờ hợp lệ')"
   ]
  },
  {
   "cell_type": "code",
   "execution_count": 202,
   "metadata": {},
   "outputs": [
    {
     "data": {
      "text/html": [
       "<div>\n",
       "<style scoped>\n",
       "    .dataframe tbody tr th:only-of-type {\n",
       "        vertical-align: middle;\n",
       "    }\n",
       "\n",
       "    .dataframe tbody tr th {\n",
       "        vertical-align: top;\n",
       "    }\n",
       "\n",
       "    .dataframe thead th {\n",
       "        text-align: right;\n",
       "    }\n",
       "</style>\n",
       "<table border=\"1\" class=\"dataframe\">\n",
       "  <thead>\n",
       "    <tr style=\"text-align: right;\">\n",
       "      <th></th>\n",
       "      <th>Address</th>\n",
       "      <th>Prices</th>\n",
       "      <th>Area</th>\n",
       "      <th>toFace</th>\n",
       "      <th>type</th>\n",
       "      <th>certificate</th>\n",
       "      <th>width</th>\n",
       "      <th>length</th>\n",
       "      <th>floors</th>\n",
       "    </tr>\n",
       "  </thead>\n",
       "  <tbody>\n",
       "    <tr>\n",
       "      <th>0</th>\n",
       "      <td>Đường Hà Mục, Phường Hòa Thọ Đông, Quận Cẩm L...</td>\n",
       "      <td>5.15</td>\n",
       "      <td>100.0</td>\n",
       "      <td>Tây Nam</td>\n",
       "      <td>Nhà mặt tiền</td>\n",
       "      <td>Không có</td>\n",
       "      <td>5m</td>\n",
       "      <td>20m</td>\n",
       "      <td>4</td>\n",
       "    </tr>\n",
       "    <tr>\n",
       "      <th>1</th>\n",
       "      <td>Đường Thi Sách, Phường Hòa Thuận Tây, Quận Hả...</td>\n",
       "      <td>4.1</td>\n",
       "      <td>85.0</td>\n",
       "      <td>Không</td>\n",
       "      <td>Nhà mặt tiền</td>\n",
       "      <td>Không có</td>\n",
       "      <td>---</td>\n",
       "      <td>---</td>\n",
       "      <td>1</td>\n",
       "    </tr>\n",
       "    <tr>\n",
       "      <th>2</th>\n",
       "      <td>Đường Ông Ích Khiêm, Phường Tam Thuận, Quận T...</td>\n",
       "      <td>11.0</td>\n",
       "      <td>67.0</td>\n",
       "      <td>Tây</td>\n",
       "      <td>Nhà mặt tiền</td>\n",
       "      <td>Giấy tờ hợp lệ</td>\n",
       "      <td>3,8m</td>\n",
       "      <td>---</td>\n",
       "      <td>3</td>\n",
       "    </tr>\n",
       "    <tr>\n",
       "      <th>3</th>\n",
       "      <td>Đường Núi Thành, Phường Hòa Cường Bắc, Quận H...</td>\n",
       "      <td>17.5</td>\n",
       "      <td>137.0</td>\n",
       "      <td>Tây</td>\n",
       "      <td>Nhà mặt tiền</td>\n",
       "      <td>Giấy tờ hợp lệ</td>\n",
       "      <td>7,3m</td>\n",
       "      <td>---</td>\n",
       "      <td>3</td>\n",
       "    </tr>\n",
       "    <tr>\n",
       "      <th>4</th>\n",
       "      <td>Đường Trương Văn Hiến, Phường Khuê Mỹ, Quận N...</td>\n",
       "      <td>7.0</td>\n",
       "      <td>90.0</td>\n",
       "      <td>Đông Nam</td>\n",
       "      <td>Nhà mặt tiền</td>\n",
       "      <td>Giấy tờ hợp lệ</td>\n",
       "      <td>5m</td>\n",
       "      <td>18m</td>\n",
       "      <td>4</td>\n",
       "    </tr>\n",
       "  </tbody>\n",
       "</table>\n",
       "</div>"
      ],
      "text/plain": [
       "                                             Address Prices   Area    toFace   \n",
       "0   Đường Hà Mục, Phường Hòa Thọ Đông, Quận Cẩm L...   5.15  100.0   Tây Nam  \\\n",
       "1   Đường Thi Sách, Phường Hòa Thuận Tây, Quận Hả...    4.1   85.0     Không   \n",
       "2   Đường Ông Ích Khiêm, Phường Tam Thuận, Quận T...   11.0   67.0       Tây   \n",
       "3   Đường Núi Thành, Phường Hòa Cường Bắc, Quận H...   17.5  137.0       Tây   \n",
       "4   Đường Trương Văn Hiến, Phường Khuê Mỹ, Quận N...    7.0   90.0  Đông Nam   \n",
       "\n",
       "           type     certificate width length floors  \n",
       "0  Nhà mặt tiền        Không có    5m    20m      4  \n",
       "1  Nhà mặt tiền        Không có   ---    ---      1  \n",
       "2  Nhà mặt tiền  Giấy tờ hợp lệ  3,8m    ---      3  \n",
       "3  Nhà mặt tiền  Giấy tờ hợp lệ  7,3m    ---      3  \n",
       "4  Nhà mặt tiền  Giấy tờ hợp lệ    5m    18m      4  "
      ]
     },
     "execution_count": 202,
     "metadata": {},
     "output_type": "execute_result"
    }
   ],
   "source": [
    "df.head()"
   ]
  },
  {
   "attachments": {},
   "cell_type": "markdown",
   "metadata": {},
   "source": [
    "### Width and Length"
   ]
  },
  {
   "attachments": {},
   "cell_type": "markdown",
   "metadata": {},
   "source": [
    "Loại bỏ các từ thừa"
   ]
  },
  {
   "cell_type": "code",
   "execution_count": 203,
   "metadata": {},
   "outputs": [],
   "source": [
    "df['width'] = df['width'].apply(lambda x: x.strip(' m ').replace(' ', '').replace(',','.'))\n",
    "df['width'] = df['width'].astype(str).apply(lambda x: re.sub(r'^\\.', '', x)).apply(lambda x: re.sub(r'\\D+', '.', x)).apply(lambda x: re.sub(r'\\.$', '', x))"
   ]
  },
  {
   "cell_type": "code",
   "execution_count": 204,
   "metadata": {},
   "outputs": [],
   "source": [
    "df['length'] = df['length'].apply(lambda x: x.strip(' m ').replace(' ', '').replace(',','.'))\n",
    "df['length'] = df['length'].astype(str).apply(lambda x: re.sub(r'\\.$', '', x)).apply(lambda x: re.sub(r'\\.{2,}', '.', x))"
   ]
  },
  {
   "attachments": {},
   "cell_type": "markdown",
   "metadata": {},
   "source": [
    "Những giá trị không phải là số thì Chuyển thành NaN"
   ]
  },
  {
   "cell_type": "code",
   "execution_count": 205,
   "metadata": {},
   "outputs": [],
   "source": [
    "df.loc[:,'width'] = pd.to_numeric(df['width'], errors='coerce')\n",
    "df.loc[:,'length'] = pd.to_numeric(df['length'], errors='coerce')"
   ]
  },
  {
   "attachments": {},
   "cell_type": "markdown",
   "metadata": {},
   "source": [
    "Những giá trị length hoặc width nào bằng 0 thì chuyển thành NaN"
   ]
  },
  {
   "cell_type": "code",
   "execution_count": 206,
   "metadata": {},
   "outputs": [],
   "source": [
    "df.loc[df.width==0,['width']]=np.nan\n",
    "df.loc[df.length==0,['length']]=np.nan"
   ]
  },
  {
   "cell_type": "code",
   "execution_count": 207,
   "metadata": {},
   "outputs": [
    {
     "data": {
      "text/html": [
       "<div>\n",
       "<style scoped>\n",
       "    .dataframe tbody tr th:only-of-type {\n",
       "        vertical-align: middle;\n",
       "    }\n",
       "\n",
       "    .dataframe tbody tr th {\n",
       "        vertical-align: top;\n",
       "    }\n",
       "\n",
       "    .dataframe thead th {\n",
       "        text-align: right;\n",
       "    }\n",
       "</style>\n",
       "<table border=\"1\" class=\"dataframe\">\n",
       "  <thead>\n",
       "    <tr style=\"text-align: right;\">\n",
       "      <th></th>\n",
       "      <th>Address</th>\n",
       "      <th>Prices</th>\n",
       "      <th>Area</th>\n",
       "      <th>toFace</th>\n",
       "      <th>type</th>\n",
       "      <th>certificate</th>\n",
       "      <th>width</th>\n",
       "      <th>length</th>\n",
       "      <th>floors</th>\n",
       "    </tr>\n",
       "  </thead>\n",
       "  <tbody>\n",
       "    <tr>\n",
       "      <th>0</th>\n",
       "      <td>Đường Hà Mục, Phường Hòa Thọ Đông, Quận Cẩm L...</td>\n",
       "      <td>5.15</td>\n",
       "      <td>100.0</td>\n",
       "      <td>Tây Nam</td>\n",
       "      <td>Nhà mặt tiền</td>\n",
       "      <td>Không có</td>\n",
       "      <td>5.0</td>\n",
       "      <td>20.0</td>\n",
       "      <td>4</td>\n",
       "    </tr>\n",
       "    <tr>\n",
       "      <th>1</th>\n",
       "      <td>Đường Thi Sách, Phường Hòa Thuận Tây, Quận Hả...</td>\n",
       "      <td>4.1</td>\n",
       "      <td>85.0</td>\n",
       "      <td>Không</td>\n",
       "      <td>Nhà mặt tiền</td>\n",
       "      <td>Không có</td>\n",
       "      <td>NaN</td>\n",
       "      <td>NaN</td>\n",
       "      <td>1</td>\n",
       "    </tr>\n",
       "    <tr>\n",
       "      <th>2</th>\n",
       "      <td>Đường Ông Ích Khiêm, Phường Tam Thuận, Quận T...</td>\n",
       "      <td>11.0</td>\n",
       "      <td>67.0</td>\n",
       "      <td>Tây</td>\n",
       "      <td>Nhà mặt tiền</td>\n",
       "      <td>Giấy tờ hợp lệ</td>\n",
       "      <td>3.8</td>\n",
       "      <td>NaN</td>\n",
       "      <td>3</td>\n",
       "    </tr>\n",
       "    <tr>\n",
       "      <th>3</th>\n",
       "      <td>Đường Núi Thành, Phường Hòa Cường Bắc, Quận H...</td>\n",
       "      <td>17.5</td>\n",
       "      <td>137.0</td>\n",
       "      <td>Tây</td>\n",
       "      <td>Nhà mặt tiền</td>\n",
       "      <td>Giấy tờ hợp lệ</td>\n",
       "      <td>7.3</td>\n",
       "      <td>NaN</td>\n",
       "      <td>3</td>\n",
       "    </tr>\n",
       "    <tr>\n",
       "      <th>4</th>\n",
       "      <td>Đường Trương Văn Hiến, Phường Khuê Mỹ, Quận N...</td>\n",
       "      <td>7.0</td>\n",
       "      <td>90.0</td>\n",
       "      <td>Đông Nam</td>\n",
       "      <td>Nhà mặt tiền</td>\n",
       "      <td>Giấy tờ hợp lệ</td>\n",
       "      <td>5.0</td>\n",
       "      <td>18.0</td>\n",
       "      <td>4</td>\n",
       "    </tr>\n",
       "  </tbody>\n",
       "</table>\n",
       "</div>"
      ],
      "text/plain": [
       "                                             Address Prices   Area    toFace   \n",
       "0   Đường Hà Mục, Phường Hòa Thọ Đông, Quận Cẩm L...   5.15  100.0   Tây Nam  \\\n",
       "1   Đường Thi Sách, Phường Hòa Thuận Tây, Quận Hả...    4.1   85.0     Không   \n",
       "2   Đường Ông Ích Khiêm, Phường Tam Thuận, Quận T...   11.0   67.0       Tây   \n",
       "3   Đường Núi Thành, Phường Hòa Cường Bắc, Quận H...   17.5  137.0       Tây   \n",
       "4   Đường Trương Văn Hiến, Phường Khuê Mỹ, Quận N...    7.0   90.0  Đông Nam   \n",
       "\n",
       "           type     certificate width length floors  \n",
       "0  Nhà mặt tiền        Không có   5.0   20.0      4  \n",
       "1  Nhà mặt tiền        Không có   NaN    NaN      1  \n",
       "2  Nhà mặt tiền  Giấy tờ hợp lệ   3.8    NaN      3  \n",
       "3  Nhà mặt tiền  Giấy tờ hợp lệ   7.3    NaN      3  \n",
       "4  Nhà mặt tiền  Giấy tờ hợp lệ   5.0   18.0      4  "
      ]
     },
     "execution_count": 207,
     "metadata": {},
     "output_type": "execute_result"
    }
   ],
   "source": [
    "df.head()"
   ]
  },
  {
   "attachments": {},
   "cell_type": "markdown",
   "metadata": {},
   "source": [
    "### Floors"
   ]
  },
  {
   "attachments": {},
   "cell_type": "markdown",
   "metadata": {},
   "source": [
    "Các giá trị của biến floors"
   ]
  },
  {
   "cell_type": "code",
   "execution_count": 208,
   "metadata": {},
   "outputs": [
    {
     "data": {
      "text/plain": [
       "array(['4', '1', '3', '2', '6', '---', '5', '8', '7', '10', '33', '9',\n",
       "       '14', '11', '19', '34', '18', '123', '23', '15', '35', '25', '12',\n",
       "       '17', '20', '28'], dtype=object)"
      ]
     },
     "execution_count": 208,
     "metadata": {},
     "output_type": "execute_result"
    }
   ],
   "source": [
    "df['floors'].unique()"
   ]
  },
  {
   "attachments": {},
   "cell_type": "markdown",
   "metadata": {},
   "source": [
    "Chuyển những giá trị '---' thành NaN"
   ]
  },
  {
   "cell_type": "code",
   "execution_count": 209,
   "metadata": {},
   "outputs": [],
   "source": [
    "df.loc[:,'floors'] = pd.to_numeric(df['floors'], errors='coerce')"
   ]
  },
  {
   "attachments": {},
   "cell_type": "markdown",
   "metadata": {},
   "source": [
    "### Định dạng lại dữ liệu"
   ]
  },
  {
   "cell_type": "code",
   "execution_count": 210,
   "metadata": {},
   "outputs": [
    {
     "data": {
      "text/html": [
       "<div>\n",
       "<style scoped>\n",
       "    .dataframe tbody tr th:only-of-type {\n",
       "        vertical-align: middle;\n",
       "    }\n",
       "\n",
       "    .dataframe tbody tr th {\n",
       "        vertical-align: top;\n",
       "    }\n",
       "\n",
       "    .dataframe thead th {\n",
       "        text-align: right;\n",
       "    }\n",
       "</style>\n",
       "<table border=\"1\" class=\"dataframe\">\n",
       "  <thead>\n",
       "    <tr style=\"text-align: right;\">\n",
       "      <th></th>\n",
       "      <th>Address</th>\n",
       "      <th>Prices</th>\n",
       "      <th>Area</th>\n",
       "      <th>toFace</th>\n",
       "      <th>type</th>\n",
       "      <th>certificate</th>\n",
       "      <th>width</th>\n",
       "      <th>length</th>\n",
       "      <th>floors</th>\n",
       "    </tr>\n",
       "  </thead>\n",
       "  <tbody>\n",
       "    <tr>\n",
       "      <th>0</th>\n",
       "      <td>Đường Hà Mục, Phường Hòa Thọ Đông, Quận Cẩm L...</td>\n",
       "      <td>5.15</td>\n",
       "      <td>100.0</td>\n",
       "      <td>Tây Nam</td>\n",
       "      <td>Nhà mặt tiền</td>\n",
       "      <td>Không có</td>\n",
       "      <td>5.0</td>\n",
       "      <td>20.0</td>\n",
       "      <td>4.0</td>\n",
       "    </tr>\n",
       "    <tr>\n",
       "      <th>1</th>\n",
       "      <td>Đường Thi Sách, Phường Hòa Thuận Tây, Quận Hả...</td>\n",
       "      <td>4.1</td>\n",
       "      <td>85.0</td>\n",
       "      <td>Không</td>\n",
       "      <td>Nhà mặt tiền</td>\n",
       "      <td>Không có</td>\n",
       "      <td>NaN</td>\n",
       "      <td>NaN</td>\n",
       "      <td>1.0</td>\n",
       "    </tr>\n",
       "    <tr>\n",
       "      <th>2</th>\n",
       "      <td>Đường Ông Ích Khiêm, Phường Tam Thuận, Quận T...</td>\n",
       "      <td>11.0</td>\n",
       "      <td>67.0</td>\n",
       "      <td>Tây</td>\n",
       "      <td>Nhà mặt tiền</td>\n",
       "      <td>Giấy tờ hợp lệ</td>\n",
       "      <td>3.8</td>\n",
       "      <td>NaN</td>\n",
       "      <td>3.0</td>\n",
       "    </tr>\n",
       "    <tr>\n",
       "      <th>3</th>\n",
       "      <td>Đường Núi Thành, Phường Hòa Cường Bắc, Quận H...</td>\n",
       "      <td>17.5</td>\n",
       "      <td>137.0</td>\n",
       "      <td>Tây</td>\n",
       "      <td>Nhà mặt tiền</td>\n",
       "      <td>Giấy tờ hợp lệ</td>\n",
       "      <td>7.3</td>\n",
       "      <td>NaN</td>\n",
       "      <td>3.0</td>\n",
       "    </tr>\n",
       "    <tr>\n",
       "      <th>4</th>\n",
       "      <td>Đường Trương Văn Hiến, Phường Khuê Mỹ, Quận N...</td>\n",
       "      <td>7.0</td>\n",
       "      <td>90.0</td>\n",
       "      <td>Đông Nam</td>\n",
       "      <td>Nhà mặt tiền</td>\n",
       "      <td>Giấy tờ hợp lệ</td>\n",
       "      <td>5.0</td>\n",
       "      <td>18.0</td>\n",
       "      <td>4.0</td>\n",
       "    </tr>\n",
       "  </tbody>\n",
       "</table>\n",
       "</div>"
      ],
      "text/plain": [
       "                                             Address Prices   Area    toFace   \n",
       "0   Đường Hà Mục, Phường Hòa Thọ Đông, Quận Cẩm L...   5.15  100.0   Tây Nam  \\\n",
       "1   Đường Thi Sách, Phường Hòa Thuận Tây, Quận Hả...    4.1   85.0     Không   \n",
       "2   Đường Ông Ích Khiêm, Phường Tam Thuận, Quận T...   11.0   67.0       Tây   \n",
       "3   Đường Núi Thành, Phường Hòa Cường Bắc, Quận H...   17.5  137.0       Tây   \n",
       "4   Đường Trương Văn Hiến, Phường Khuê Mỹ, Quận N...    7.0   90.0  Đông Nam   \n",
       "\n",
       "           type     certificate width length floors  \n",
       "0  Nhà mặt tiền        Không có   5.0   20.0    4.0  \n",
       "1  Nhà mặt tiền        Không có   NaN    NaN    1.0  \n",
       "2  Nhà mặt tiền  Giấy tờ hợp lệ   3.8    NaN    3.0  \n",
       "3  Nhà mặt tiền  Giấy tờ hợp lệ   7.3    NaN    3.0  \n",
       "4  Nhà mặt tiền  Giấy tờ hợp lệ   5.0   18.0    4.0  "
      ]
     },
     "execution_count": 210,
     "metadata": {},
     "output_type": "execute_result"
    }
   ],
   "source": [
    "df.head()"
   ]
  },
  {
   "cell_type": "code",
   "execution_count": 211,
   "metadata": {},
   "outputs": [],
   "source": [
    "def convert(df, features,t):\n",
    "    for feature in features:\n",
    "        df[feature] = df[feature].astype(t)\n",
    "features_int = [\"floors\"]\n",
    "features_cat = [\"type\",\"certificate\",\"toFace\"]\n",
    "features_float =[\"Prices\",\"Area\",\"width\",\"length\"]\n",
    "convert(df,features_int,\"Int64\")\n",
    "convert(df,features_cat,\"category\")\n",
    "convert(df,features_float,\"float64\")"
   ]
  },
  {
   "attachments": {},
   "cell_type": "markdown",
   "metadata": {},
   "source": [
    "Trước khi định dạng"
   ]
  },
  {
   "cell_type": "code",
   "execution_count": 212,
   "metadata": {},
   "outputs": [
    {
     "name": "stdout",
     "output_type": "stream",
     "text": [
      "<class 'pandas.core.frame.DataFrame'>\n",
      "RangeIndex: 14941 entries, 0 to 14940\n",
      "Data columns (total 9 columns):\n",
      " #   Column       Non-Null Count  Dtype \n",
      "---  ------       --------------  ----- \n",
      " 0   Address      14941 non-null  object\n",
      " 1   Prices       14941 non-null  object\n",
      " 2   Area         14941 non-null  object\n",
      " 3   toFace       14941 non-null  object\n",
      " 4   type         14941 non-null  object\n",
      " 5   certificate  14941 non-null  object\n",
      " 6   width        14941 non-null  object\n",
      " 7   length       14941 non-null  object\n",
      " 8   floors       14941 non-null  object\n",
      "dtypes: object(9)\n",
      "memory usage: 1.0+ MB\n"
     ]
    }
   ],
   "source": [
    "data.info()"
   ]
  },
  {
   "cell_type": "code",
   "execution_count": 213,
   "metadata": {},
   "outputs": [
    {
     "data": {
      "text/html": [
       "<div>\n",
       "<style scoped>\n",
       "    .dataframe tbody tr th:only-of-type {\n",
       "        vertical-align: middle;\n",
       "    }\n",
       "\n",
       "    .dataframe tbody tr th {\n",
       "        vertical-align: top;\n",
       "    }\n",
       "\n",
       "    .dataframe thead th {\n",
       "        text-align: right;\n",
       "    }\n",
       "</style>\n",
       "<table border=\"1\" class=\"dataframe\">\n",
       "  <thead>\n",
       "    <tr style=\"text-align: right;\">\n",
       "      <th></th>\n",
       "      <th>Address</th>\n",
       "      <th>Prices</th>\n",
       "      <th>Area</th>\n",
       "      <th>toFace</th>\n",
       "      <th>type</th>\n",
       "      <th>certificate</th>\n",
       "      <th>width</th>\n",
       "      <th>length</th>\n",
       "      <th>floors</th>\n",
       "    </tr>\n",
       "  </thead>\n",
       "  <tbody>\n",
       "    <tr>\n",
       "      <th>count</th>\n",
       "      <td>14941</td>\n",
       "      <td>14941</td>\n",
       "      <td>14941</td>\n",
       "      <td>14941</td>\n",
       "      <td>14941</td>\n",
       "      <td>14941</td>\n",
       "      <td>14941</td>\n",
       "      <td>14941</td>\n",
       "      <td>14941</td>\n",
       "    </tr>\n",
       "    <tr>\n",
       "      <th>unique</th>\n",
       "      <td>3037</td>\n",
       "      <td>834</td>\n",
       "      <td>392</td>\n",
       "      <td>9</td>\n",
       "      <td>2</td>\n",
       "      <td>3</td>\n",
       "      <td>321</td>\n",
       "      <td>377</td>\n",
       "      <td>26</td>\n",
       "    </tr>\n",
       "    <tr>\n",
       "      <th>top</th>\n",
       "      <td>Đường Tiểu La, Phường Hòa Cường Bắc, Quận Hải...</td>\n",
       "      <td>4,5 tỷ</td>\n",
       "      <td>100 m2</td>\n",
       "      <td>_</td>\n",
       "      <td>Nhà mặt tiền</td>\n",
       "      <td>Sổ hồng/ Sổ đỏ</td>\n",
       "      <td>5m</td>\n",
       "      <td>---</td>\n",
       "      <td>3</td>\n",
       "    </tr>\n",
       "    <tr>\n",
       "      <th>freq</th>\n",
       "      <td>150</td>\n",
       "      <td>257</td>\n",
       "      <td>1666</td>\n",
       "      <td>9169</td>\n",
       "      <td>10412</td>\n",
       "      <td>11358</td>\n",
       "      <td>5613</td>\n",
       "      <td>4091</td>\n",
       "      <td>5684</td>\n",
       "    </tr>\n",
       "  </tbody>\n",
       "</table>\n",
       "</div>"
      ],
      "text/plain": [
       "                                                  Address    Prices     Area   \n",
       "count                                               14941     14941    14941  \\\n",
       "unique                                               3037       834      392   \n",
       "top      Đường Tiểu La, Phường Hòa Cường Bắc, Quận Hải...   4,5 tỷ    100 m2   \n",
       "freq                                                  150       257     1666   \n",
       "\n",
       "       toFace          type     certificate  width length floors  \n",
       "count   14941         14941           14941  14941  14941  14941  \n",
       "unique      9             2               3    321    377     26  \n",
       "top         _  Nhà mặt tiền  Sổ hồng/ Sổ đỏ     5m    ---      3  \n",
       "freq     9169         10412           11358   5613   4091   5684  "
      ]
     },
     "execution_count": 213,
     "metadata": {},
     "output_type": "execute_result"
    }
   ],
   "source": [
    "data.describe()"
   ]
  },
  {
   "attachments": {},
   "cell_type": "markdown",
   "metadata": {},
   "source": [
    "Sau khi định dạng "
   ]
  },
  {
   "cell_type": "code",
   "execution_count": 214,
   "metadata": {},
   "outputs": [
    {
     "name": "stdout",
     "output_type": "stream",
     "text": [
      "<class 'pandas.core.frame.DataFrame'>\n",
      "RangeIndex: 14941 entries, 0 to 14940\n",
      "Data columns (total 9 columns):\n",
      " #   Column       Non-Null Count  Dtype   \n",
      "---  ------       --------------  -----   \n",
      " 0   Address      14941 non-null  object  \n",
      " 1   Prices       14875 non-null  float64 \n",
      " 2   Area         14791 non-null  float64 \n",
      " 3   toFace       14941 non-null  category\n",
      " 4   type         14941 non-null  category\n",
      " 5   certificate  14941 non-null  category\n",
      " 6   width        12876 non-null  float64 \n",
      " 7   length       10830 non-null  float64 \n",
      " 8   floors       14586 non-null  Int64   \n",
      "dtypes: Int64(1), category(3), float64(4), object(1)\n",
      "memory usage: 759.5+ KB\n"
     ]
    }
   ],
   "source": [
    "df.info()"
   ]
  },
  {
   "cell_type": "code",
   "execution_count": 215,
   "metadata": {},
   "outputs": [
    {
     "data": {
      "text/html": [
       "<div>\n",
       "<style scoped>\n",
       "    .dataframe tbody tr th:only-of-type {\n",
       "        vertical-align: middle;\n",
       "    }\n",
       "\n",
       "    .dataframe tbody tr th {\n",
       "        vertical-align: top;\n",
       "    }\n",
       "\n",
       "    .dataframe thead th {\n",
       "        text-align: right;\n",
       "    }\n",
       "</style>\n",
       "<table border=\"1\" class=\"dataframe\">\n",
       "  <thead>\n",
       "    <tr style=\"text-align: right;\">\n",
       "      <th></th>\n",
       "      <th>Prices</th>\n",
       "      <th>Area</th>\n",
       "      <th>width</th>\n",
       "      <th>length</th>\n",
       "      <th>floors</th>\n",
       "    </tr>\n",
       "  </thead>\n",
       "  <tbody>\n",
       "    <tr>\n",
       "      <th>count</th>\n",
       "      <td>14875.000000</td>\n",
       "      <td>14791.000000</td>\n",
       "      <td>12876.000000</td>\n",
       "      <td>10830.000000</td>\n",
       "      <td>14586.0</td>\n",
       "    </tr>\n",
       "    <tr>\n",
       "      <th>mean</th>\n",
       "      <td>8.378236</td>\n",
       "      <td>87.218493</td>\n",
       "      <td>5.711354</td>\n",
       "      <td>18.190815</td>\n",
       "      <td>2.744344</td>\n",
       "    </tr>\n",
       "    <tr>\n",
       "      <th>std</th>\n",
       "      <td>11.268677</td>\n",
       "      <td>63.940995</td>\n",
       "      <td>5.113937</td>\n",
       "      <td>27.314063</td>\n",
       "      <td>1.995086</td>\n",
       "    </tr>\n",
       "    <tr>\n",
       "      <th>min</th>\n",
       "      <td>1.000000</td>\n",
       "      <td>0.103000</td>\n",
       "      <td>2.000000</td>\n",
       "      <td>1.000000</td>\n",
       "      <td>1.0</td>\n",
       "    </tr>\n",
       "    <tr>\n",
       "      <th>25%</th>\n",
       "      <td>3.600000</td>\n",
       "      <td>60.000000</td>\n",
       "      <td>4.500000</td>\n",
       "      <td>14.000000</td>\n",
       "      <td>2.0</td>\n",
       "    </tr>\n",
       "    <tr>\n",
       "      <th>50%</th>\n",
       "      <td>5.250000</td>\n",
       "      <td>80.000000</td>\n",
       "      <td>5.000000</td>\n",
       "      <td>17.500000</td>\n",
       "      <td>3.0</td>\n",
       "    </tr>\n",
       "    <tr>\n",
       "      <th>75%</th>\n",
       "      <td>8.800000</td>\n",
       "      <td>100.000000</td>\n",
       "      <td>5.500000</td>\n",
       "      <td>20.000000</td>\n",
       "      <td>3.0</td>\n",
       "    </tr>\n",
       "    <tr>\n",
       "      <th>max</th>\n",
       "      <td>315.000000</td>\n",
       "      <td>950.000000</td>\n",
       "      <td>420.000000</td>\n",
       "      <td>2020.000000</td>\n",
       "      <td>123.0</td>\n",
       "    </tr>\n",
       "  </tbody>\n",
       "</table>\n",
       "</div>"
      ],
      "text/plain": [
       "             Prices          Area         width        length    floors\n",
       "count  14875.000000  14791.000000  12876.000000  10830.000000   14586.0\n",
       "mean       8.378236     87.218493      5.711354     18.190815  2.744344\n",
       "std       11.268677     63.940995      5.113937     27.314063  1.995086\n",
       "min        1.000000      0.103000      2.000000      1.000000       1.0\n",
       "25%        3.600000     60.000000      4.500000     14.000000       2.0\n",
       "50%        5.250000     80.000000      5.000000     17.500000       3.0\n",
       "75%        8.800000    100.000000      5.500000     20.000000       3.0\n",
       "max      315.000000    950.000000    420.000000   2020.000000     123.0"
      ]
     },
     "execution_count": 215,
     "metadata": {},
     "output_type": "execute_result"
    }
   ],
   "source": [
    "df.describe()"
   ]
  },
  {
   "attachments": {},
   "cell_type": "markdown",
   "metadata": {},
   "source": [
    "## Create new Feature"
   ]
  },
  {
   "attachments": {},
   "cell_type": "markdown",
   "metadata": {},
   "source": [
    "Tách trường Address thành:\n",
    "- Street (Đường)\n",
    "- Ward (Phường-Xã)\n",
    "- District (Quận - Huyện)\n",
    "- City (Thành Phố)"
   ]
  },
  {
   "cell_type": "code",
   "execution_count": 216,
   "metadata": {},
   "outputs": [],
   "source": [
    "df[['Street','Ward','District','City','','','']] = df['Address'].str.split(', ', expand=True)"
   ]
  },
  {
   "attachments": {},
   "cell_type": "markdown",
   "metadata": {},
   "source": [
    "Loại bỏ các trường \"City\", \"Address\" và sắp xếp lại thứ tự các trường"
   ]
  },
  {
   "cell_type": "code",
   "execution_count": 217,
   "metadata": {},
   "outputs": [
    {
     "data": {
      "text/html": [
       "<div>\n",
       "<style scoped>\n",
       "    .dataframe tbody tr th:only-of-type {\n",
       "        vertical-align: middle;\n",
       "    }\n",
       "\n",
       "    .dataframe tbody tr th {\n",
       "        vertical-align: top;\n",
       "    }\n",
       "\n",
       "    .dataframe thead th {\n",
       "        text-align: right;\n",
       "    }\n",
       "</style>\n",
       "<table border=\"1\" class=\"dataframe\">\n",
       "  <thead>\n",
       "    <tr style=\"text-align: right;\">\n",
       "      <th></th>\n",
       "      <th>Street</th>\n",
       "      <th>Ward</th>\n",
       "      <th>District</th>\n",
       "      <th>Prices</th>\n",
       "      <th>Area</th>\n",
       "      <th>toFace</th>\n",
       "      <th>type</th>\n",
       "      <th>certificate</th>\n",
       "      <th>width</th>\n",
       "      <th>length</th>\n",
       "      <th>floors</th>\n",
       "    </tr>\n",
       "  </thead>\n",
       "  <tbody>\n",
       "    <tr>\n",
       "      <th>0</th>\n",
       "      <td>Đường Hà Mục</td>\n",
       "      <td>Phường Hòa Thọ Đông</td>\n",
       "      <td>Quận Cẩm Lệ</td>\n",
       "      <td>5.15</td>\n",
       "      <td>100.0</td>\n",
       "      <td>Tây Nam</td>\n",
       "      <td>Nhà mặt tiền</td>\n",
       "      <td>Không có</td>\n",
       "      <td>5.0</td>\n",
       "      <td>20.0</td>\n",
       "      <td>4</td>\n",
       "    </tr>\n",
       "    <tr>\n",
       "      <th>1</th>\n",
       "      <td>Đường Thi Sách</td>\n",
       "      <td>Phường Hòa Thuận Tây</td>\n",
       "      <td>Quận Hải Châu</td>\n",
       "      <td>4.10</td>\n",
       "      <td>85.0</td>\n",
       "      <td>Không</td>\n",
       "      <td>Nhà mặt tiền</td>\n",
       "      <td>Không có</td>\n",
       "      <td>NaN</td>\n",
       "      <td>NaN</td>\n",
       "      <td>1</td>\n",
       "    </tr>\n",
       "    <tr>\n",
       "      <th>2</th>\n",
       "      <td>Đường Ông Ích Khiêm</td>\n",
       "      <td>Phường Tam Thuận</td>\n",
       "      <td>Quận Thanh Khê</td>\n",
       "      <td>11.00</td>\n",
       "      <td>67.0</td>\n",
       "      <td>Tây</td>\n",
       "      <td>Nhà mặt tiền</td>\n",
       "      <td>Giấy tờ hợp lệ</td>\n",
       "      <td>3.8</td>\n",
       "      <td>NaN</td>\n",
       "      <td>3</td>\n",
       "    </tr>\n",
       "    <tr>\n",
       "      <th>3</th>\n",
       "      <td>Đường Núi Thành</td>\n",
       "      <td>Phường Hòa Cường Bắc</td>\n",
       "      <td>Quận Hải Châu</td>\n",
       "      <td>17.50</td>\n",
       "      <td>137.0</td>\n",
       "      <td>Tây</td>\n",
       "      <td>Nhà mặt tiền</td>\n",
       "      <td>Giấy tờ hợp lệ</td>\n",
       "      <td>7.3</td>\n",
       "      <td>NaN</td>\n",
       "      <td>3</td>\n",
       "    </tr>\n",
       "    <tr>\n",
       "      <th>4</th>\n",
       "      <td>Đường Trương Văn Hiến</td>\n",
       "      <td>Phường Khuê Mỹ</td>\n",
       "      <td>Quận Ngũ Hành Sơn</td>\n",
       "      <td>7.00</td>\n",
       "      <td>90.0</td>\n",
       "      <td>Đông Nam</td>\n",
       "      <td>Nhà mặt tiền</td>\n",
       "      <td>Giấy tờ hợp lệ</td>\n",
       "      <td>5.0</td>\n",
       "      <td>18.0</td>\n",
       "      <td>4</td>\n",
       "    </tr>\n",
       "  </tbody>\n",
       "</table>\n",
       "</div>"
      ],
      "text/plain": [
       "                   Street                  Ward           District  Prices   \n",
       "0            Đường Hà Mục   Phường Hòa Thọ Đông        Quận Cẩm Lệ    5.15  \\\n",
       "1          Đường Thi Sách  Phường Hòa Thuận Tây      Quận Hải Châu    4.10   \n",
       "2     Đường Ông Ích Khiêm      Phường Tam Thuận     Quận Thanh Khê   11.00   \n",
       "3         Đường Núi Thành  Phường Hòa Cường Bắc      Quận Hải Châu   17.50   \n",
       "4   Đường Trương Văn Hiến        Phường Khuê Mỹ  Quận Ngũ Hành Sơn    7.00   \n",
       "\n",
       "    Area    toFace          type     certificate  width  length  floors  \n",
       "0  100.0   Tây Nam  Nhà mặt tiền        Không có    5.0    20.0       4  \n",
       "1   85.0     Không  Nhà mặt tiền        Không có    NaN     NaN       1  \n",
       "2   67.0       Tây  Nhà mặt tiền  Giấy tờ hợp lệ    3.8     NaN       3  \n",
       "3  137.0       Tây  Nhà mặt tiền  Giấy tờ hợp lệ    7.3     NaN       3  \n",
       "4   90.0  Đông Nam  Nhà mặt tiền  Giấy tờ hợp lệ    5.0    18.0       4  "
      ]
     },
     "execution_count": 217,
     "metadata": {},
     "output_type": "execute_result"
    }
   ],
   "source": [
    "df = df.drop(['City', 'Address', ''], axis=1)\n",
    "df = df[['Street','Ward','District', 'Prices', 'Area', 'toFace', 'type', 'certificate', 'width', 'length', 'floors']]\n",
    "df.head()"
   ]
  },
  {
   "attachments": {},
   "cell_type": "markdown",
   "metadata": {},
   "source": [
    "Loại bỏ những giá trị không phải là quận, huyện ở Đà Nẵng \n",
    "    \n",
    "('Quận Cẩm Lệ', 'Quận Hải Châu', 'Quận Thanh Khê', 'Quận Ngũ Hành Sơn', 'Quận Sơn Trà', 'Quận Liên Chiểu', 'Huyện Hòa Vang') "
   ]
  },
  {
   "cell_type": "code",
   "execution_count": 218,
   "metadata": {},
   "outputs": [],
   "source": [
    "df['District']= df['District'].str.lower()\n",
    "District = ['quận cẩm lệ', 'quận hải châu', 'quận thanh khê',\n",
    "       'quận ngũ hành sơn', 'quận sơn trà', 'quận liên chiểu','huyện hòa vang']\n",
    "df = df.loc[df['District'].isin(District)]\n",
    "df.loc[:,'District'] = df['District'].str.replace(\"quận \",\"\")\n",
    "df.loc[:,'District'] = df['District'].str.replace(\"huyện \",\"\")"
   ]
  },
  {
   "cell_type": "code",
   "execution_count": 219,
   "metadata": {},
   "outputs": [],
   "source": [
    "df.loc[:,'Ward'] = df['Ward'].str.replace(\"Phường \",\"\")\n",
    "df.loc[:,'Street'] = df['Street'].str.replace(\"Đường \",\"\")"
   ]
  },
  {
   "cell_type": "code",
   "execution_count": 220,
   "metadata": {},
   "outputs": [
    {
     "data": {
      "text/plain": [
       "array(['cẩm lệ', 'hải châu', 'thanh khê', 'ngũ hành sơn', 'sơn trà',\n",
       "       'liên chiểu', 'hòa vang'], dtype=object)"
      ]
     },
     "execution_count": 220,
     "metadata": {},
     "output_type": "execute_result"
    }
   ],
   "source": [
    "df['District'].unique()"
   ]
  },
  {
   "attachments": {},
   "cell_type": "markdown",
   "metadata": {},
   "source": [
    "## Mising Data"
   ]
  },
  {
   "attachments": {},
   "cell_type": "markdown",
   "metadata": {},
   "source": [
    "Thay thế giá trị trống của trường Prices, Area, floors bằng mean"
   ]
  },
  {
   "cell_type": "code",
   "execution_count": 221,
   "metadata": {},
   "outputs": [],
   "source": [
    "df['Prices']=df['Prices'].fillna(df['Prices'].mean())\n",
    "df['Area']=df['Area'].fillna(df['Area'].mean())\n",
    "df['floors']=df['floors'].fillna(int(df['floors'].mean()))\n"
   ]
  },
  {
   "attachments": {},
   "cell_type": "markdown",
   "metadata": {},
   "source": [
    "Trường Width và Length\n",
    "\n",
    "- Nếu giá trị width khác rỗng và length là rỗng thì: length = area/width\n",
    "- Ngược lại thì: width = area/length\n",
    "- Cả hai là rỗng thì length = width = area/2"
   ]
  },
  {
   "cell_type": "code",
   "execution_count": 222,
   "metadata": {},
   "outputs": [],
   "source": [
    "df.loc[(df.width.isnull()) & (df.length.notnull()),['width']] = (df['Area'])/(df['length'])\n",
    "df.loc[(df.width.notnull()) & (df.length.isnull()),['length']] = (df['Area'])/(df['width'])\n",
    "df.loc[(df.width.isnull()) & (df.length.isnull()),['width','length']] = (df['Area'])/2"
   ]
  },
  {
   "attachments": {},
   "cell_type": "markdown",
   "metadata": {},
   "source": [
    "## Outlier"
   ]
  },
  {
   "cell_type": "code",
   "execution_count": 223,
   "metadata": {},
   "outputs": [
    {
     "name": "stdout",
     "output_type": "stream",
     "text": [
      "Biên trên: 42.29344192029161\n"
     ]
    }
   ],
   "source": [
    "uppper_boundary=df['Prices'].mean() + 3* df['Prices'].std()\n",
    "lower_boundary=df['Prices'].mean() - 3* df['Prices'].std()\n",
    "print(\"Biên trên:\",uppper_boundary)"
   ]
  },
  {
   "cell_type": "code",
   "execution_count": 224,
   "metadata": {},
   "outputs": [],
   "source": [
    "df.loc[(df.Prices>uppper_boundary),'Prices'] = uppper_boundary"
   ]
  },
  {
   "cell_type": "code",
   "execution_count": 226,
   "metadata": {},
   "outputs": [
    {
     "ename": "TypeError",
     "evalue": "Horizontal orientation requires numeric `x` variable.",
     "output_type": "error",
     "traceback": [
      "\u001b[1;31m---------------------------------------------------------------------------\u001b[0m",
      "\u001b[1;31mTypeError\u001b[0m                                 Traceback (most recent call last)",
      "Cell \u001b[1;32mIn[226], line 2\u001b[0m\n\u001b[0;32m      1\u001b[0m fig, axes \u001b[39m=\u001b[39m plt\u001b[39m.\u001b[39msubplots(ncols\u001b[39m=\u001b[39m\u001b[39m2\u001b[39m,nrows\u001b[39m=\u001b[39m\u001b[39m2\u001b[39m)\n\u001b[1;32m----> 2\u001b[0m sns\u001b[39m.\u001b[39;49mboxplot(data\u001b[39m=\u001b[39;49mdata,x\u001b[39m=\u001b[39;49m\u001b[39m'\u001b[39;49m\u001b[39mPrices\u001b[39;49m\u001b[39m'\u001b[39;49m,ax\u001b[39m=\u001b[39;49maxes[\u001b[39m0\u001b[39;49m][\u001b[39m0\u001b[39;49m])\n\u001b[0;32m      3\u001b[0m sns\u001b[39m.\u001b[39mboxplot(data\u001b[39m=\u001b[39mdf,x\u001b[39m=\u001b[39m\u001b[39m'\u001b[39m\u001b[39mPrices\u001b[39m\u001b[39m'\u001b[39m,ax\u001b[39m=\u001b[39maxes[\u001b[39m0\u001b[39m][\u001b[39m1\u001b[39m])\n\u001b[0;32m      4\u001b[0m sns\u001b[39m.\u001b[39mhistplot(data\u001b[39m=\u001b[39mdata,x\u001b[39m=\u001b[39m\u001b[39m'\u001b[39m\u001b[39mPrices\u001b[39m\u001b[39m'\u001b[39m,ax\u001b[39m=\u001b[39maxes[\u001b[39m1\u001b[39m][\u001b[39m0\u001b[39m])\n",
      "File \u001b[1;32mc:\\Enviroment\\env\\lib\\site-packages\\seaborn\\categorical.py:2231\u001b[0m, in \u001b[0;36mboxplot\u001b[1;34m(data, x, y, hue, order, hue_order, orient, color, palette, saturation, width, dodge, fliersize, linewidth, whis, ax, **kwargs)\u001b[0m\n\u001b[0;32m   2224\u001b[0m \u001b[39mdef\u001b[39;00m \u001b[39mboxplot\u001b[39m(\n\u001b[0;32m   2225\u001b[0m     data\u001b[39m=\u001b[39m\u001b[39mNone\u001b[39;00m, \u001b[39m*\u001b[39m, x\u001b[39m=\u001b[39m\u001b[39mNone\u001b[39;00m, y\u001b[39m=\u001b[39m\u001b[39mNone\u001b[39;00m, hue\u001b[39m=\u001b[39m\u001b[39mNone\u001b[39;00m, order\u001b[39m=\u001b[39m\u001b[39mNone\u001b[39;00m, hue_order\u001b[39m=\u001b[39m\u001b[39mNone\u001b[39;00m,\n\u001b[0;32m   2226\u001b[0m     orient\u001b[39m=\u001b[39m\u001b[39mNone\u001b[39;00m, color\u001b[39m=\u001b[39m\u001b[39mNone\u001b[39;00m, palette\u001b[39m=\u001b[39m\u001b[39mNone\u001b[39;00m, saturation\u001b[39m=\u001b[39m\u001b[39m.75\u001b[39m, width\u001b[39m=\u001b[39m\u001b[39m.8\u001b[39m,\n\u001b[0;32m   2227\u001b[0m     dodge\u001b[39m=\u001b[39m\u001b[39mTrue\u001b[39;00m, fliersize\u001b[39m=\u001b[39m\u001b[39m5\u001b[39m, linewidth\u001b[39m=\u001b[39m\u001b[39mNone\u001b[39;00m, whis\u001b[39m=\u001b[39m\u001b[39m1.5\u001b[39m, ax\u001b[39m=\u001b[39m\u001b[39mNone\u001b[39;00m,\n\u001b[0;32m   2228\u001b[0m     \u001b[39m*\u001b[39m\u001b[39m*\u001b[39mkwargs\n\u001b[0;32m   2229\u001b[0m ):\n\u001b[1;32m-> 2231\u001b[0m     plotter \u001b[39m=\u001b[39m _BoxPlotter(x, y, hue, data, order, hue_order,\n\u001b[0;32m   2232\u001b[0m                           orient, color, palette, saturation,\n\u001b[0;32m   2233\u001b[0m                           width, dodge, fliersize, linewidth)\n\u001b[0;32m   2235\u001b[0m     \u001b[39mif\u001b[39;00m ax \u001b[39mis\u001b[39;00m \u001b[39mNone\u001b[39;00m:\n\u001b[0;32m   2236\u001b[0m         ax \u001b[39m=\u001b[39m plt\u001b[39m.\u001b[39mgca()\n",
      "File \u001b[1;32mc:\\Enviroment\\env\\lib\\site-packages\\seaborn\\categorical.py:785\u001b[0m, in \u001b[0;36m_BoxPlotter.__init__\u001b[1;34m(self, x, y, hue, data, order, hue_order, orient, color, palette, saturation, width, dodge, fliersize, linewidth)\u001b[0m\n\u001b[0;32m    781\u001b[0m \u001b[39mdef\u001b[39;00m \u001b[39m__init__\u001b[39m(\u001b[39mself\u001b[39m, x, y, hue, data, order, hue_order,\n\u001b[0;32m    782\u001b[0m              orient, color, palette, saturation,\n\u001b[0;32m    783\u001b[0m              width, dodge, fliersize, linewidth):\n\u001b[1;32m--> 785\u001b[0m     \u001b[39mself\u001b[39;49m\u001b[39m.\u001b[39;49mestablish_variables(x, y, hue, data, orient, order, hue_order)\n\u001b[0;32m    786\u001b[0m     \u001b[39mself\u001b[39m\u001b[39m.\u001b[39mestablish_colors(color, palette, saturation)\n\u001b[0;32m    788\u001b[0m     \u001b[39mself\u001b[39m\u001b[39m.\u001b[39mdodge \u001b[39m=\u001b[39m dodge\n",
      "File \u001b[1;32mc:\\Enviroment\\env\\lib\\site-packages\\seaborn\\categorical.py:544\u001b[0m, in \u001b[0;36m_CategoricalPlotter.establish_variables\u001b[1;34m(self, x, y, hue, data, orient, order, hue_order, units)\u001b[0m\n\u001b[0;32m    541\u001b[0m         \u001b[39mraise\u001b[39;00m \u001b[39mValueError\u001b[39;00m(err)\n\u001b[0;32m    543\u001b[0m \u001b[39m# Figure out the plotting orientation\u001b[39;00m\n\u001b[1;32m--> 544\u001b[0m orient \u001b[39m=\u001b[39m infer_orient(\n\u001b[0;32m    545\u001b[0m     x, y, orient, require_numeric\u001b[39m=\u001b[39;49m\u001b[39mself\u001b[39;49m\u001b[39m.\u001b[39;49mrequire_numeric\n\u001b[0;32m    546\u001b[0m )\n\u001b[0;32m    548\u001b[0m \u001b[39m# Option 2a:\u001b[39;00m\n\u001b[0;32m    549\u001b[0m \u001b[39m# We are plotting a single set of data\u001b[39;00m\n\u001b[0;32m    550\u001b[0m \u001b[39m# ------------------------------------\u001b[39;00m\n\u001b[0;32m    551\u001b[0m \u001b[39mif\u001b[39;00m x \u001b[39mis\u001b[39;00m \u001b[39mNone\u001b[39;00m \u001b[39mor\u001b[39;00m y \u001b[39mis\u001b[39;00m \u001b[39mNone\u001b[39;00m:\n\u001b[0;32m    552\u001b[0m \n\u001b[0;32m    553\u001b[0m     \u001b[39m# Determine where the data are\u001b[39;00m\n",
      "File \u001b[1;32mc:\\Enviroment\\env\\lib\\site-packages\\seaborn\\_oldcore.py:1601\u001b[0m, in \u001b[0;36minfer_orient\u001b[1;34m(x, y, orient, require_numeric)\u001b[0m\n\u001b[0;32m   1599\u001b[0m         warnings\u001b[39m.\u001b[39mwarn(single_var_warning\u001b[39m.\u001b[39mformat(\u001b[39m\"\u001b[39m\u001b[39mVertical\u001b[39m\u001b[39m\"\u001b[39m, \u001b[39m\"\u001b[39m\u001b[39mx\u001b[39m\u001b[39m\"\u001b[39m))\n\u001b[0;32m   1600\u001b[0m     \u001b[39mif\u001b[39;00m require_numeric \u001b[39mand\u001b[39;00m x_type \u001b[39m!=\u001b[39m \u001b[39m\"\u001b[39m\u001b[39mnumeric\u001b[39m\u001b[39m\"\u001b[39m:\n\u001b[1;32m-> 1601\u001b[0m         \u001b[39mraise\u001b[39;00m \u001b[39mTypeError\u001b[39;00m(nonnumeric_dv_error\u001b[39m.\u001b[39mformat(\u001b[39m\"\u001b[39m\u001b[39mHorizontal\u001b[39m\u001b[39m\"\u001b[39m, \u001b[39m\"\u001b[39m\u001b[39mx\u001b[39m\u001b[39m\"\u001b[39m))\n\u001b[0;32m   1602\u001b[0m     \u001b[39mreturn\u001b[39;00m \u001b[39m\"\u001b[39m\u001b[39mh\u001b[39m\u001b[39m\"\u001b[39m\n\u001b[0;32m   1604\u001b[0m \u001b[39melif\u001b[39;00m \u001b[39mstr\u001b[39m(orient)\u001b[39m.\u001b[39mstartswith(\u001b[39m\"\u001b[39m\u001b[39mv\u001b[39m\u001b[39m\"\u001b[39m):\n",
      "\u001b[1;31mTypeError\u001b[0m: Horizontal orientation requires numeric `x` variable."
     ]
    },
    {
     "data": {
      "image/png": "[encoded data removed]",
      "text/plain": [
       "<Figure size 640x480 with 4 Axes>"
      ]
     },
     "metadata": {},
     "output_type": "display_data"
    }
   ],
   "source": [
    "fig, axes = plt.subplots(ncols=2,nrows=2, figsize=(12,10))\n",
    "sns.boxplot(data=data,x='Prices',ax=axes[0][0])\n",
    "sns.boxplot(data=df,x='Prices',ax=axes[0][1])\n",
    "sns.histplot(data=data,x='Prices',ax=axes[1][0])\n",
    "sns.histplot(data=df,x='Prices',ax=axes[1][1])"
   ]
  },
  {
   "cell_type": "code",
   "execution_count": null,
   "metadata": {},
   "outputs": [],
   "source": [
    "uppper_boundary=df['Area'].mean() + 3* df['Area'].std()\n",
    "print(\"Biên trên:\",uppper_boundary)"
   ]
  },
  {
   "cell_type": "code",
   "execution_count": null,
   "metadata": {},
   "outputs": [],
   "source": [
    "df.loc[(df.Area>uppper_boundary),'Area'] = uppper_boundary"
   ]
  },
  {
   "cell_type": "code",
   "execution_count": null,
   "metadata": {},
   "outputs": [],
   "source": [
    "fig, axes = plt.subplots(ncols=2, figsize=(12,6))\n",
    "sns.histplot(data=data,x='Area',ax=axes[0])\n",
    "sns.histplot(data=df,x='Area',ax=axes[1])"
   ]
  },
  {
   "cell_type": "code",
   "execution_count": null,
   "metadata": {},
   "outputs": [],
   "source": [
    "uppper_boundary=df['floors'].mean() + 3* df['floors'].std()\n",
    "print(\"Biên trên:\",uppper_boundary)"
   ]
  },
  {
   "cell_type": "code",
   "execution_count": null,
   "metadata": {},
   "outputs": [],
   "source": [
    "df.loc[(df.floors>uppper_boundary),'floors']=int(uppper_boundary)"
   ]
  },
  {
   "cell_type": "code",
   "execution_count": null,
   "metadata": {},
   "outputs": [],
   "source": [
    "fig, axes = plt.subplots(ncols=2, figsize=(12,6))\n",
    "sns.boxplot(data=data,x='floors',ax=axes[0])\n",
    "sns.boxplot(data=df,x='floors',ax=axes[1])"
   ]
  },
  {
   "cell_type": "code",
   "execution_count": null,
   "metadata": {},
   "outputs": [],
   "source": [
    "uppper_boundary=df['width'].mean() + 3* df['width'].std()\n",
    "print(\"Biên trên:\",uppper_boundary)\n",
    "df.loc[(df.width>uppper_boundary),'width'] = uppper_boundary"
   ]
  },
  {
   "cell_type": "code",
   "execution_count": null,
   "metadata": {},
   "outputs": [],
   "source": [
    "fig, axes = plt.subplots(ncols=2, figsize=(12,6))\n",
    "sns.boxplot(data=data,x='width',ax=axes[0])\n",
    "sns.boxplot(data=df,x='width',ax=axes[1])"
   ]
  },
  {
   "cell_type": "code",
   "execution_count": null,
   "metadata": {},
   "outputs": [],
   "source": [
    "uppper_boundary=df['length'].mean() + 3* df['length'].std()\n",
    "print(\"Biên trên:\",uppper_boundary)\n",
    "df.loc[(df.length>uppper_boundary),'length'] = uppper_boundary"
   ]
  },
  {
   "cell_type": "code",
   "execution_count": null,
   "metadata": {},
   "outputs": [],
   "source": [
    "fig, axes = plt.subplots(ncols=2, figsize=(12,6))\n",
    "sns.boxplot(data=data,x='length',ax=axes[0])\n",
    "sns.boxplot(data=df,x='length',ax=axes[1])"
   ]
  }
 ],
 "metadata": {
  "kernelspec": {
   "display_name": "env",
   "language": "python",
   "name": "python3"
  },
  "language_info": {
   "codemirror_mode": {
    "name": "ipython",
    "version": 3
   },
   "file_extension": ".py",
   "mimetype": "text/x-python",
   "name": "python",
   "nbconvert_exporter": "python",
   "pygments_lexer": "ipython3",
   "version": "3.10.6"
  },
  "orig_nbformat": 4
 },
 "nbformat": 4,
 "nbformat_minor": 2
}
