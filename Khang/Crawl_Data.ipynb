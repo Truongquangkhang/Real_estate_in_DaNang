{
 "cells": [
  {
   "cell_type": "code",
   "execution_count": 150,
   "metadata": {},
   "outputs": [],
   "source": [
    "from bs4 import BeautifulSoup\n",
    "import requests\n",
    "from csv import writer\n"
   ]
  },
  {
   "cell_type": "code",
   "execution_count": 151,
   "metadata": {},
   "outputs": [],
   "source": [
    "\n",
    "def get_Links_Detail_in_Page(HTML_page):\n",
    "    linksDetail = []\n",
    "    for k in HTML_page.find_all(class_='ct_title'):\n",
    "        for j in k.find_all('a'):\n",
    "            linksDetail.append(j.get('href'))\n",
    "    return linksDetail\n"
   ]
  },
  {
   "cell_type": "code",
   "execution_count": 152,
   "metadata": {},
   "outputs": [],
   "source": [
    "def property_of_home(urlDetail):\n",
    "    soup = BeautifulSoup(requests.get(urlDetail).text)\n",
    "    home = soup.find_all('div', class_='property')[0]\n",
    "    Title = home.find('div', class_='title').find('h1').text\n",
    "    Address = home.find('div', class_='address').find(\n",
    "        'span', class_='value').text\n",
    "    Prices = home.find('span', class_='price').find(class_='value').text\n",
    "    Area = home.find('span', class_='square').find(class_='value').text\n",
    "    moreInfo = home.find('div', class_='moreinfor1').find(\n",
    "        'table').find_all('td')\n",
    "    toFace = moreInfo[3].text\n",
    "    type = moreInfo[13].text\n",
    "    certificate = moreInfo[15].text\n",
    "    width = moreInfo[19].text\n",
    "    length = moreInfo[25].text\n",
    "    floors = moreInfo[21].text\n",
    "    homeDetail = [Address,Prices,Area,toFace,type,certificate,width,length,floors]\n",
    "    return homeDetail\n",
    "\n"
   ]
  },
  {
   "cell_type": "code",
   "execution_count": 153,
   "metadata": {},
   "outputs": [],
   "source": [
    "header = [\"Address\",\"Prices\",\"Area\",\"toFace\",\"type\",\"certificate\",\"width\",\"length\",\"floors\"]\n",
    "with open('raw_data.csv', 'a',encoding= \"utf8\",newline='') as f_object:\n",
    "    writer_object = writer(f_object)\n",
    "    writer_object.writerow(header)\n",
    "    for i in range(1,750):\n",
    "        url = \"https://alonhadat.com.vn/can-ban-nha-da-nang-t3/trang-%i.htm\"%i\n",
    "        soup= BeautifulSoup(requests.get(url).text,'html.parser')\n",
    "        links = get_Links_Detail_in_Page(soup)\n",
    "        for link in links:\n",
    "            writer_object.writerow(property_of_home(\"https://alonhadat.com.vn\"+str(link)))\n"
   ]
  },
  {
   "cell_type": "code",
   "execution_count": null,
   "metadata": {},
   "outputs": [],
   "source": []
  }
 ],
 "metadata": {
  "kernelspec": {
   "display_name": "env",
   "language": "python",
   "name": "python3"
  },
  "language_info": {
   "codemirror_mode": {
    "name": "ipython",
    "version": 3
   },
   "file_extension": ".py",
   "mimetype": "text/x-python",
   "name": "python",
   "nbconvert_exporter": "python",
   "pygments_lexer": "ipython3",
   "version": "3.10.6"
  },
  "orig_nbformat": 4
 },
 "nbformat": 4,
 "nbformat_minor": 2
}
